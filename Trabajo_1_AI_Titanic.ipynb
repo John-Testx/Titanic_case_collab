{
  "nbformat": 4,
  "nbformat_minor": 0,
  "metadata": {
    "colab": {
      "provenance": [],
      "toc_visible": true,
      "include_colab_link": true
    },
    "kernelspec": {
      "name": "python3",
      "display_name": "Python 3"
    },
    "language_info": {
      "name": "python"
    }
  },
  "cells": [
    {
      "cell_type": "markdown",
      "metadata": {
        "id": "view-in-github",
        "colab_type": "text"
      },
      "source": [
        "<a href=\"https://colab.research.google.com/github/John-Testx/Titanic_case_collab/blob/main/Trabajo_1_AI_Titanic.ipynb\" target=\"_parent\"><img src=\"https://colab.research.google.com/assets/colab-badge.svg\" alt=\"Open In Colab\"/></a>"
      ]
    },
    {
      "cell_type": "markdown",
      "source": [
        "# Caso - Titanic Kaggle dataset"
      ],
      "metadata": {
        "id": "-cwg7kAFYwya"
      }
    },
    {
      "cell_type": "markdown",
      "source": [
        "Cargar dataset y librerias:\n",
        "- Pandas\n",
        "- Gráficos matplot, seaborn\n",
        "- Precisión, exactitud o medidas para verificar el modelo son las de sklearn.\n",
        "\n",
        "Leer dataset posteriormente usando pandas."
      ],
      "metadata": {
        "id": "eYsWK5PFY0F7"
      }
    },
    {
      "cell_type": "code",
      "source": [
        "import pandas as pd\n",
        "import matplotlib.pyplot as plt\n",
        "from sklearn.metrics import confusion_matrix, classification_report, accuracy_score\n",
        "import seaborn as sns\n",
        "datos = pd.read_csv(\"train.csv\")"
      ],
      "metadata": {
        "id": "pJVtfeiiO97v"
      },
      "execution_count": 392,
      "outputs": []
    },
    {
      "cell_type": "markdown",
      "source": [
        "# Analisis EDA (Investigar dataset)"
      ],
      "metadata": {
        "id": "xi7No0VZmuxA"
      }
    },
    {
      "cell_type": "code",
      "source": [
        "datos.head()"
      ],
      "metadata": {
        "id": "Zgwq5RKtPBVe",
        "colab": {
          "base_uri": "https://localhost:8080/",
          "height": 258
        },
        "outputId": "0fdefdd6-13a2-4aad-8172-579fdb801804"
      },
      "execution_count": 393,
      "outputs": [
        {
          "output_type": "execute_result",
          "data": {
            "text/plain": [
              "   PassengerId  Survived  Pclass  \\\n",
              "0            1         0       3   \n",
              "1            2         1       1   \n",
              "2            3         1       3   \n",
              "3            4         1       1   \n",
              "4            5         0       3   \n",
              "\n",
              "                                                Name     Sex   Age  SibSp  \\\n",
              "0                            Braund, Mr. Owen Harris    male  22.0      1   \n",
              "1  Cumings, Mrs. John Bradley (Florence Briggs Th...  female  38.0      1   \n",
              "2                             Heikkinen, Miss. Laina  female  26.0      0   \n",
              "3       Futrelle, Mrs. Jacques Heath (Lily May Peel)  female  35.0      1   \n",
              "4                           Allen, Mr. William Henry    male  35.0      0   \n",
              "\n",
              "   Parch            Ticket     Fare Cabin Embarked  \n",
              "0      0         A/5 21171   7.2500   NaN        S  \n",
              "1      0          PC 17599  71.2833   C85        C  \n",
              "2      0  STON/O2. 3101282   7.9250   NaN        S  \n",
              "3      0            113803  53.1000  C123        S  \n",
              "4      0            373450   8.0500   NaN        S  "
            ],
            "text/html": [
              "\n",
              "  <div id=\"df-24305933-5dd7-4a9d-85df-6857c1a0cfea\" class=\"colab-df-container\">\n",
              "    <div>\n",
              "<style scoped>\n",
              "    .dataframe tbody tr th:only-of-type {\n",
              "        vertical-align: middle;\n",
              "    }\n",
              "\n",
              "    .dataframe tbody tr th {\n",
              "        vertical-align: top;\n",
              "    }\n",
              "\n",
              "    .dataframe thead th {\n",
              "        text-align: right;\n",
              "    }\n",
              "</style>\n",
              "<table border=\"1\" class=\"dataframe\">\n",
              "  <thead>\n",
              "    <tr style=\"text-align: right;\">\n",
              "      <th></th>\n",
              "      <th>PassengerId</th>\n",
              "      <th>Survived</th>\n",
              "      <th>Pclass</th>\n",
              "      <th>Name</th>\n",
              "      <th>Sex</th>\n",
              "      <th>Age</th>\n",
              "      <th>SibSp</th>\n",
              "      <th>Parch</th>\n",
              "      <th>Ticket</th>\n",
              "      <th>Fare</th>\n",
              "      <th>Cabin</th>\n",
              "      <th>Embarked</th>\n",
              "    </tr>\n",
              "  </thead>\n",
              "  <tbody>\n",
              "    <tr>\n",
              "      <th>0</th>\n",
              "      <td>1</td>\n",
              "      <td>0</td>\n",
              "      <td>3</td>\n",
              "      <td>Braund, Mr. Owen Harris</td>\n",
              "      <td>male</td>\n",
              "      <td>22.0</td>\n",
              "      <td>1</td>\n",
              "      <td>0</td>\n",
              "      <td>A/5 21171</td>\n",
              "      <td>7.2500</td>\n",
              "      <td>NaN</td>\n",
              "      <td>S</td>\n",
              "    </tr>\n",
              "    <tr>\n",
              "      <th>1</th>\n",
              "      <td>2</td>\n",
              "      <td>1</td>\n",
              "      <td>1</td>\n",
              "      <td>Cumings, Mrs. John Bradley (Florence Briggs Th...</td>\n",
              "      <td>female</td>\n",
              "      <td>38.0</td>\n",
              "      <td>1</td>\n",
              "      <td>0</td>\n",
              "      <td>PC 17599</td>\n",
              "      <td>71.2833</td>\n",
              "      <td>C85</td>\n",
              "      <td>C</td>\n",
              "    </tr>\n",
              "    <tr>\n",
              "      <th>2</th>\n",
              "      <td>3</td>\n",
              "      <td>1</td>\n",
              "      <td>3</td>\n",
              "      <td>Heikkinen, Miss. Laina</td>\n",
              "      <td>female</td>\n",
              "      <td>26.0</td>\n",
              "      <td>0</td>\n",
              "      <td>0</td>\n",
              "      <td>STON/O2. 3101282</td>\n",
              "      <td>7.9250</td>\n",
              "      <td>NaN</td>\n",
              "      <td>S</td>\n",
              "    </tr>\n",
              "    <tr>\n",
              "      <th>3</th>\n",
              "      <td>4</td>\n",
              "      <td>1</td>\n",
              "      <td>1</td>\n",
              "      <td>Futrelle, Mrs. Jacques Heath (Lily May Peel)</td>\n",
              "      <td>female</td>\n",
              "      <td>35.0</td>\n",
              "      <td>1</td>\n",
              "      <td>0</td>\n",
              "      <td>113803</td>\n",
              "      <td>53.1000</td>\n",
              "      <td>C123</td>\n",
              "      <td>S</td>\n",
              "    </tr>\n",
              "    <tr>\n",
              "      <th>4</th>\n",
              "      <td>5</td>\n",
              "      <td>0</td>\n",
              "      <td>3</td>\n",
              "      <td>Allen, Mr. William Henry</td>\n",
              "      <td>male</td>\n",
              "      <td>35.0</td>\n",
              "      <td>0</td>\n",
              "      <td>0</td>\n",
              "      <td>373450</td>\n",
              "      <td>8.0500</td>\n",
              "      <td>NaN</td>\n",
              "      <td>S</td>\n",
              "    </tr>\n",
              "  </tbody>\n",
              "</table>\n",
              "</div>\n",
              "    <div class=\"colab-df-buttons\">\n",
              "\n",
              "  <div class=\"colab-df-container\">\n",
              "    <button class=\"colab-df-convert\" onclick=\"convertToInteractive('df-24305933-5dd7-4a9d-85df-6857c1a0cfea')\"\n",
              "            title=\"Convert this dataframe to an interactive table.\"\n",
              "            style=\"display:none;\">\n",
              "\n",
              "  <svg xmlns=\"http://www.w3.org/2000/svg\" height=\"24px\" viewBox=\"0 -960 960 960\">\n",
              "    <path d=\"M120-120v-720h720v720H120Zm60-500h600v-160H180v160Zm220 220h160v-160H400v160Zm0 220h160v-160H400v160ZM180-400h160v-160H180v160Zm440 0h160v-160H620v160ZM180-180h160v-160H180v160Zm440 0h160v-160H620v160Z\"/>\n",
              "  </svg>\n",
              "    </button>\n",
              "\n",
              "  <style>\n",
              "    .colab-df-container {\n",
              "      display:flex;\n",
              "      gap: 12px;\n",
              "    }\n",
              "\n",
              "    .colab-df-convert {\n",
              "      background-color: #E8F0FE;\n",
              "      border: none;\n",
              "      border-radius: 50%;\n",
              "      cursor: pointer;\n",
              "      display: none;\n",
              "      fill: #1967D2;\n",
              "      height: 32px;\n",
              "      padding: 0 0 0 0;\n",
              "      width: 32px;\n",
              "    }\n",
              "\n",
              "    .colab-df-convert:hover {\n",
              "      background-color: #E2EBFA;\n",
              "      box-shadow: 0px 1px 2px rgba(60, 64, 67, 0.3), 0px 1px 3px 1px rgba(60, 64, 67, 0.15);\n",
              "      fill: #174EA6;\n",
              "    }\n",
              "\n",
              "    .colab-df-buttons div {\n",
              "      margin-bottom: 4px;\n",
              "    }\n",
              "\n",
              "    [theme=dark] .colab-df-convert {\n",
              "      background-color: #3B4455;\n",
              "      fill: #D2E3FC;\n",
              "    }\n",
              "\n",
              "    [theme=dark] .colab-df-convert:hover {\n",
              "      background-color: #434B5C;\n",
              "      box-shadow: 0px 1px 3px 1px rgba(0, 0, 0, 0.15);\n",
              "      filter: drop-shadow(0px 1px 2px rgba(0, 0, 0, 0.3));\n",
              "      fill: #FFFFFF;\n",
              "    }\n",
              "  </style>\n",
              "\n",
              "    <script>\n",
              "      const buttonEl =\n",
              "        document.querySelector('#df-24305933-5dd7-4a9d-85df-6857c1a0cfea button.colab-df-convert');\n",
              "      buttonEl.style.display =\n",
              "        google.colab.kernel.accessAllowed ? 'block' : 'none';\n",
              "\n",
              "      async function convertToInteractive(key) {\n",
              "        const element = document.querySelector('#df-24305933-5dd7-4a9d-85df-6857c1a0cfea');\n",
              "        const dataTable =\n",
              "          await google.colab.kernel.invokeFunction('convertToInteractive',\n",
              "                                                    [key], {});\n",
              "        if (!dataTable) return;\n",
              "\n",
              "        const docLinkHtml = 'Like what you see? Visit the ' +\n",
              "          '<a target=\"_blank\" href=https://colab.research.google.com/notebooks/data_table.ipynb>data table notebook</a>'\n",
              "          + ' to learn more about interactive tables.';\n",
              "        element.innerHTML = '';\n",
              "        dataTable['output_type'] = 'display_data';\n",
              "        await google.colab.output.renderOutput(dataTable, element);\n",
              "        const docLink = document.createElement('div');\n",
              "        docLink.innerHTML = docLinkHtml;\n",
              "        element.appendChild(docLink);\n",
              "      }\n",
              "    </script>\n",
              "  </div>\n",
              "\n",
              "\n",
              "    <div id=\"df-fb3d0999-f0e5-4a5a-858f-1df9c53c910b\">\n",
              "      <button class=\"colab-df-quickchart\" onclick=\"quickchart('df-fb3d0999-f0e5-4a5a-858f-1df9c53c910b')\"\n",
              "                title=\"Suggest charts\"\n",
              "                style=\"display:none;\">\n",
              "\n",
              "<svg xmlns=\"http://www.w3.org/2000/svg\" height=\"24px\"viewBox=\"0 0 24 24\"\n",
              "     width=\"24px\">\n",
              "    <g>\n",
              "        <path d=\"M19 3H5c-1.1 0-2 .9-2 2v14c0 1.1.9 2 2 2h14c1.1 0 2-.9 2-2V5c0-1.1-.9-2-2-2zM9 17H7v-7h2v7zm4 0h-2V7h2v10zm4 0h-2v-4h2v4z\"/>\n",
              "    </g>\n",
              "</svg>\n",
              "      </button>\n",
              "\n",
              "<style>\n",
              "  .colab-df-quickchart {\n",
              "      --bg-color: #E8F0FE;\n",
              "      --fill-color: #1967D2;\n",
              "      --hover-bg-color: #E2EBFA;\n",
              "      --hover-fill-color: #174EA6;\n",
              "      --disabled-fill-color: #AAA;\n",
              "      --disabled-bg-color: #DDD;\n",
              "  }\n",
              "\n",
              "  [theme=dark] .colab-df-quickchart {\n",
              "      --bg-color: #3B4455;\n",
              "      --fill-color: #D2E3FC;\n",
              "      --hover-bg-color: #434B5C;\n",
              "      --hover-fill-color: #FFFFFF;\n",
              "      --disabled-bg-color: #3B4455;\n",
              "      --disabled-fill-color: #666;\n",
              "  }\n",
              "\n",
              "  .colab-df-quickchart {\n",
              "    background-color: var(--bg-color);\n",
              "    border: none;\n",
              "    border-radius: 50%;\n",
              "    cursor: pointer;\n",
              "    display: none;\n",
              "    fill: var(--fill-color);\n",
              "    height: 32px;\n",
              "    padding: 0;\n",
              "    width: 32px;\n",
              "  }\n",
              "\n",
              "  .colab-df-quickchart:hover {\n",
              "    background-color: var(--hover-bg-color);\n",
              "    box-shadow: 0 1px 2px rgba(60, 64, 67, 0.3), 0 1px 3px 1px rgba(60, 64, 67, 0.15);\n",
              "    fill: var(--button-hover-fill-color);\n",
              "  }\n",
              "\n",
              "  .colab-df-quickchart-complete:disabled,\n",
              "  .colab-df-quickchart-complete:disabled:hover {\n",
              "    background-color: var(--disabled-bg-color);\n",
              "    fill: var(--disabled-fill-color);\n",
              "    box-shadow: none;\n",
              "  }\n",
              "\n",
              "  .colab-df-spinner {\n",
              "    border: 2px solid var(--fill-color);\n",
              "    border-color: transparent;\n",
              "    border-bottom-color: var(--fill-color);\n",
              "    animation:\n",
              "      spin 1s steps(1) infinite;\n",
              "  }\n",
              "\n",
              "  @keyframes spin {\n",
              "    0% {\n",
              "      border-color: transparent;\n",
              "      border-bottom-color: var(--fill-color);\n",
              "      border-left-color: var(--fill-color);\n",
              "    }\n",
              "    20% {\n",
              "      border-color: transparent;\n",
              "      border-left-color: var(--fill-color);\n",
              "      border-top-color: var(--fill-color);\n",
              "    }\n",
              "    30% {\n",
              "      border-color: transparent;\n",
              "      border-left-color: var(--fill-color);\n",
              "      border-top-color: var(--fill-color);\n",
              "      border-right-color: var(--fill-color);\n",
              "    }\n",
              "    40% {\n",
              "      border-color: transparent;\n",
              "      border-right-color: var(--fill-color);\n",
              "      border-top-color: var(--fill-color);\n",
              "    }\n",
              "    60% {\n",
              "      border-color: transparent;\n",
              "      border-right-color: var(--fill-color);\n",
              "    }\n",
              "    80% {\n",
              "      border-color: transparent;\n",
              "      border-right-color: var(--fill-color);\n",
              "      border-bottom-color: var(--fill-color);\n",
              "    }\n",
              "    90% {\n",
              "      border-color: transparent;\n",
              "      border-bottom-color: var(--fill-color);\n",
              "    }\n",
              "  }\n",
              "</style>\n",
              "\n",
              "      <script>\n",
              "        async function quickchart(key) {\n",
              "          const quickchartButtonEl =\n",
              "            document.querySelector('#' + key + ' button');\n",
              "          quickchartButtonEl.disabled = true;  // To prevent multiple clicks.\n",
              "          quickchartButtonEl.classList.add('colab-df-spinner');\n",
              "          try {\n",
              "            const charts = await google.colab.kernel.invokeFunction(\n",
              "                'suggestCharts', [key], {});\n",
              "          } catch (error) {\n",
              "            console.error('Error during call to suggestCharts:', error);\n",
              "          }\n",
              "          quickchartButtonEl.classList.remove('colab-df-spinner');\n",
              "          quickchartButtonEl.classList.add('colab-df-quickchart-complete');\n",
              "        }\n",
              "        (() => {\n",
              "          let quickchartButtonEl =\n",
              "            document.querySelector('#df-fb3d0999-f0e5-4a5a-858f-1df9c53c910b button');\n",
              "          quickchartButtonEl.style.display =\n",
              "            google.colab.kernel.accessAllowed ? 'block' : 'none';\n",
              "        })();\n",
              "      </script>\n",
              "    </div>\n",
              "\n",
              "    </div>\n",
              "  </div>\n"
            ],
            "application/vnd.google.colaboratory.intrinsic+json": {
              "type": "dataframe",
              "variable_name": "datos",
              "summary": "{\n  \"name\": \"datos\",\n  \"rows\": 891,\n  \"fields\": [\n    {\n      \"column\": \"PassengerId\",\n      \"properties\": {\n        \"dtype\": \"number\",\n        \"std\": 257,\n        \"min\": 1,\n        \"max\": 891,\n        \"num_unique_values\": 891,\n        \"samples\": [\n          710,\n          440,\n          841\n        ],\n        \"semantic_type\": \"\",\n        \"description\": \"\"\n      }\n    },\n    {\n      \"column\": \"Survived\",\n      \"properties\": {\n        \"dtype\": \"number\",\n        \"std\": 0,\n        \"min\": 0,\n        \"max\": 1,\n        \"num_unique_values\": 2,\n        \"samples\": [\n          1,\n          0\n        ],\n        \"semantic_type\": \"\",\n        \"description\": \"\"\n      }\n    },\n    {\n      \"column\": \"Pclass\",\n      \"properties\": {\n        \"dtype\": \"number\",\n        \"std\": 0,\n        \"min\": 1,\n        \"max\": 3,\n        \"num_unique_values\": 3,\n        \"samples\": [\n          3,\n          1\n        ],\n        \"semantic_type\": \"\",\n        \"description\": \"\"\n      }\n    },\n    {\n      \"column\": \"Name\",\n      \"properties\": {\n        \"dtype\": \"string\",\n        \"num_unique_values\": 891,\n        \"samples\": [\n          \"Moubarek, Master. Halim Gonios (\\\"William George\\\")\",\n          \"Kvillner, Mr. Johan Henrik Johannesson\"\n        ],\n        \"semantic_type\": \"\",\n        \"description\": \"\"\n      }\n    },\n    {\n      \"column\": \"Sex\",\n      \"properties\": {\n        \"dtype\": \"category\",\n        \"num_unique_values\": 2,\n        \"samples\": [\n          \"female\",\n          \"male\"\n        ],\n        \"semantic_type\": \"\",\n        \"description\": \"\"\n      }\n    },\n    {\n      \"column\": \"Age\",\n      \"properties\": {\n        \"dtype\": \"number\",\n        \"std\": 14.526497332334044,\n        \"min\": 0.42,\n        \"max\": 80.0,\n        \"num_unique_values\": 88,\n        \"samples\": [\n          0.75,\n          22.0\n        ],\n        \"semantic_type\": \"\",\n        \"description\": \"\"\n      }\n    },\n    {\n      \"column\": \"SibSp\",\n      \"properties\": {\n        \"dtype\": \"number\",\n        \"std\": 1,\n        \"min\": 0,\n        \"max\": 8,\n        \"num_unique_values\": 7,\n        \"samples\": [\n          1,\n          0\n        ],\n        \"semantic_type\": \"\",\n        \"description\": \"\"\n      }\n    },\n    {\n      \"column\": \"Parch\",\n      \"properties\": {\n        \"dtype\": \"number\",\n        \"std\": 0,\n        \"min\": 0,\n        \"max\": 6,\n        \"num_unique_values\": 7,\n        \"samples\": [\n          0,\n          1\n        ],\n        \"semantic_type\": \"\",\n        \"description\": \"\"\n      }\n    },\n    {\n      \"column\": \"Ticket\",\n      \"properties\": {\n        \"dtype\": \"string\",\n        \"num_unique_values\": 681,\n        \"samples\": [\n          \"11774\",\n          \"248740\"\n        ],\n        \"semantic_type\": \"\",\n        \"description\": \"\"\n      }\n    },\n    {\n      \"column\": \"Fare\",\n      \"properties\": {\n        \"dtype\": \"number\",\n        \"std\": 49.693428597180905,\n        \"min\": 0.0,\n        \"max\": 512.3292,\n        \"num_unique_values\": 248,\n        \"samples\": [\n          11.2417,\n          51.8625\n        ],\n        \"semantic_type\": \"\",\n        \"description\": \"\"\n      }\n    },\n    {\n      \"column\": \"Cabin\",\n      \"properties\": {\n        \"dtype\": \"category\",\n        \"num_unique_values\": 147,\n        \"samples\": [\n          \"D45\",\n          \"B49\"\n        ],\n        \"semantic_type\": \"\",\n        \"description\": \"\"\n      }\n    },\n    {\n      \"column\": \"Embarked\",\n      \"properties\": {\n        \"dtype\": \"category\",\n        \"num_unique_values\": 3,\n        \"samples\": [\n          \"S\",\n          \"C\"\n        ],\n        \"semantic_type\": \"\",\n        \"description\": \"\"\n      }\n    }\n  ]\n}"
            }
          },
          "metadata": {},
          "execution_count": 393
        }
      ]
    },
    {
      "cell_type": "markdown",
      "source": [
        "Entre las variables más importantes se puede mencionar:\n",
        "\n",
        "- pclass: Indicador del nivel socioeconómico (NSE)\n",
        "  - 1.º = Alto\n",
        "  - 2.º = Medio\n",
        "  - 3.º = Bajo\n",
        "\n",
        "- sibsp: El conjunto de datos define las relaciones familiares de esta manera:\n",
        "  - Sibling = hermano, hermana, hermanastro, hermanastra\n",
        "  - Spouse = esposo, esposa (se ignoraron amantes y prometidos)\n",
        "\n",
        "- parch:\n",
        "  - El conjunto de datos define las relaciones familiares de esta manera:\n",
        "    - Parent = madre, padre\n",
        "    - Child = hija, hijo, hijastra, hijastro\n",
        "    - Algunos niños viajaron solo con una niñera, por lo que parch=0 para ellos."
      ],
      "metadata": {
        "id": "AaLkocC2fz8a"
      }
    },
    {
      "cell_type": "markdown",
      "source": [
        "## Verificar medidas estadisticas en variables o columnas del dataset"
      ],
      "metadata": {
        "id": "5ZcoqW0wZHfy"
      }
    },
    {
      "cell_type": "code",
      "source": [
        "datos.describe()"
      ],
      "metadata": {
        "id": "iICkHR1mQUAk",
        "colab": {
          "base_uri": "https://localhost:8080/",
          "height": 300
        },
        "outputId": "2ba52311-e361-4250-d80b-f3148a62bb48"
      },
      "execution_count": 394,
      "outputs": [
        {
          "output_type": "execute_result",
          "data": {
            "text/plain": [
              "       PassengerId    Survived      Pclass         Age       SibSp  \\\n",
              "count   891.000000  891.000000  891.000000  714.000000  891.000000   \n",
              "mean    446.000000    0.383838    2.308642   29.699118    0.523008   \n",
              "std     257.353842    0.486592    0.836071   14.526497    1.102743   \n",
              "min       1.000000    0.000000    1.000000    0.420000    0.000000   \n",
              "25%     223.500000    0.000000    2.000000   20.125000    0.000000   \n",
              "50%     446.000000    0.000000    3.000000   28.000000    0.000000   \n",
              "75%     668.500000    1.000000    3.000000   38.000000    1.000000   \n",
              "max     891.000000    1.000000    3.000000   80.000000    8.000000   \n",
              "\n",
              "            Parch        Fare  \n",
              "count  891.000000  891.000000  \n",
              "mean     0.381594   32.204208  \n",
              "std      0.806057   49.693429  \n",
              "min      0.000000    0.000000  \n",
              "25%      0.000000    7.910400  \n",
              "50%      0.000000   14.454200  \n",
              "75%      0.000000   31.000000  \n",
              "max      6.000000  512.329200  "
            ],
            "text/html": [
              "\n",
              "  <div id=\"df-5edc81f7-6154-4d7b-9938-49c92c9ab668\" class=\"colab-df-container\">\n",
              "    <div>\n",
              "<style scoped>\n",
              "    .dataframe tbody tr th:only-of-type {\n",
              "        vertical-align: middle;\n",
              "    }\n",
              "\n",
              "    .dataframe tbody tr th {\n",
              "        vertical-align: top;\n",
              "    }\n",
              "\n",
              "    .dataframe thead th {\n",
              "        text-align: right;\n",
              "    }\n",
              "</style>\n",
              "<table border=\"1\" class=\"dataframe\">\n",
              "  <thead>\n",
              "    <tr style=\"text-align: right;\">\n",
              "      <th></th>\n",
              "      <th>PassengerId</th>\n",
              "      <th>Survived</th>\n",
              "      <th>Pclass</th>\n",
              "      <th>Age</th>\n",
              "      <th>SibSp</th>\n",
              "      <th>Parch</th>\n",
              "      <th>Fare</th>\n",
              "    </tr>\n",
              "  </thead>\n",
              "  <tbody>\n",
              "    <tr>\n",
              "      <th>count</th>\n",
              "      <td>891.000000</td>\n",
              "      <td>891.000000</td>\n",
              "      <td>891.000000</td>\n",
              "      <td>714.000000</td>\n",
              "      <td>891.000000</td>\n",
              "      <td>891.000000</td>\n",
              "      <td>891.000000</td>\n",
              "    </tr>\n",
              "    <tr>\n",
              "      <th>mean</th>\n",
              "      <td>446.000000</td>\n",
              "      <td>0.383838</td>\n",
              "      <td>2.308642</td>\n",
              "      <td>29.699118</td>\n",
              "      <td>0.523008</td>\n",
              "      <td>0.381594</td>\n",
              "      <td>32.204208</td>\n",
              "    </tr>\n",
              "    <tr>\n",
              "      <th>std</th>\n",
              "      <td>257.353842</td>\n",
              "      <td>0.486592</td>\n",
              "      <td>0.836071</td>\n",
              "      <td>14.526497</td>\n",
              "      <td>1.102743</td>\n",
              "      <td>0.806057</td>\n",
              "      <td>49.693429</td>\n",
              "    </tr>\n",
              "    <tr>\n",
              "      <th>min</th>\n",
              "      <td>1.000000</td>\n",
              "      <td>0.000000</td>\n",
              "      <td>1.000000</td>\n",
              "      <td>0.420000</td>\n",
              "      <td>0.000000</td>\n",
              "      <td>0.000000</td>\n",
              "      <td>0.000000</td>\n",
              "    </tr>\n",
              "    <tr>\n",
              "      <th>25%</th>\n",
              "      <td>223.500000</td>\n",
              "      <td>0.000000</td>\n",
              "      <td>2.000000</td>\n",
              "      <td>20.125000</td>\n",
              "      <td>0.000000</td>\n",
              "      <td>0.000000</td>\n",
              "      <td>7.910400</td>\n",
              "    </tr>\n",
              "    <tr>\n",
              "      <th>50%</th>\n",
              "      <td>446.000000</td>\n",
              "      <td>0.000000</td>\n",
              "      <td>3.000000</td>\n",
              "      <td>28.000000</td>\n",
              "      <td>0.000000</td>\n",
              "      <td>0.000000</td>\n",
              "      <td>14.454200</td>\n",
              "    </tr>\n",
              "    <tr>\n",
              "      <th>75%</th>\n",
              "      <td>668.500000</td>\n",
              "      <td>1.000000</td>\n",
              "      <td>3.000000</td>\n",
              "      <td>38.000000</td>\n",
              "      <td>1.000000</td>\n",
              "      <td>0.000000</td>\n",
              "      <td>31.000000</td>\n",
              "    </tr>\n",
              "    <tr>\n",
              "      <th>max</th>\n",
              "      <td>891.000000</td>\n",
              "      <td>1.000000</td>\n",
              "      <td>3.000000</td>\n",
              "      <td>80.000000</td>\n",
              "      <td>8.000000</td>\n",
              "      <td>6.000000</td>\n",
              "      <td>512.329200</td>\n",
              "    </tr>\n",
              "  </tbody>\n",
              "</table>\n",
              "</div>\n",
              "    <div class=\"colab-df-buttons\">\n",
              "\n",
              "  <div class=\"colab-df-container\">\n",
              "    <button class=\"colab-df-convert\" onclick=\"convertToInteractive('df-5edc81f7-6154-4d7b-9938-49c92c9ab668')\"\n",
              "            title=\"Convert this dataframe to an interactive table.\"\n",
              "            style=\"display:none;\">\n",
              "\n",
              "  <svg xmlns=\"http://www.w3.org/2000/svg\" height=\"24px\" viewBox=\"0 -960 960 960\">\n",
              "    <path d=\"M120-120v-720h720v720H120Zm60-500h600v-160H180v160Zm220 220h160v-160H400v160Zm0 220h160v-160H400v160ZM180-400h160v-160H180v160Zm440 0h160v-160H620v160ZM180-180h160v-160H180v160Zm440 0h160v-160H620v160Z\"/>\n",
              "  </svg>\n",
              "    </button>\n",
              "\n",
              "  <style>\n",
              "    .colab-df-container {\n",
              "      display:flex;\n",
              "      gap: 12px;\n",
              "    }\n",
              "\n",
              "    .colab-df-convert {\n",
              "      background-color: #E8F0FE;\n",
              "      border: none;\n",
              "      border-radius: 50%;\n",
              "      cursor: pointer;\n",
              "      display: none;\n",
              "      fill: #1967D2;\n",
              "      height: 32px;\n",
              "      padding: 0 0 0 0;\n",
              "      width: 32px;\n",
              "    }\n",
              "\n",
              "    .colab-df-convert:hover {\n",
              "      background-color: #E2EBFA;\n",
              "      box-shadow: 0px 1px 2px rgba(60, 64, 67, 0.3), 0px 1px 3px 1px rgba(60, 64, 67, 0.15);\n",
              "      fill: #174EA6;\n",
              "    }\n",
              "\n",
              "    .colab-df-buttons div {\n",
              "      margin-bottom: 4px;\n",
              "    }\n",
              "\n",
              "    [theme=dark] .colab-df-convert {\n",
              "      background-color: #3B4455;\n",
              "      fill: #D2E3FC;\n",
              "    }\n",
              "\n",
              "    [theme=dark] .colab-df-convert:hover {\n",
              "      background-color: #434B5C;\n",
              "      box-shadow: 0px 1px 3px 1px rgba(0, 0, 0, 0.15);\n",
              "      filter: drop-shadow(0px 1px 2px rgba(0, 0, 0, 0.3));\n",
              "      fill: #FFFFFF;\n",
              "    }\n",
              "  </style>\n",
              "\n",
              "    <script>\n",
              "      const buttonEl =\n",
              "        document.querySelector('#df-5edc81f7-6154-4d7b-9938-49c92c9ab668 button.colab-df-convert');\n",
              "      buttonEl.style.display =\n",
              "        google.colab.kernel.accessAllowed ? 'block' : 'none';\n",
              "\n",
              "      async function convertToInteractive(key) {\n",
              "        const element = document.querySelector('#df-5edc81f7-6154-4d7b-9938-49c92c9ab668');\n",
              "        const dataTable =\n",
              "          await google.colab.kernel.invokeFunction('convertToInteractive',\n",
              "                                                    [key], {});\n",
              "        if (!dataTable) return;\n",
              "\n",
              "        const docLinkHtml = 'Like what you see? Visit the ' +\n",
              "          '<a target=\"_blank\" href=https://colab.research.google.com/notebooks/data_table.ipynb>data table notebook</a>'\n",
              "          + ' to learn more about interactive tables.';\n",
              "        element.innerHTML = '';\n",
              "        dataTable['output_type'] = 'display_data';\n",
              "        await google.colab.output.renderOutput(dataTable, element);\n",
              "        const docLink = document.createElement('div');\n",
              "        docLink.innerHTML = docLinkHtml;\n",
              "        element.appendChild(docLink);\n",
              "      }\n",
              "    </script>\n",
              "  </div>\n",
              "\n",
              "\n",
              "    <div id=\"df-5b76568e-0b63-4e94-a0dd-386a50b28b8d\">\n",
              "      <button class=\"colab-df-quickchart\" onclick=\"quickchart('df-5b76568e-0b63-4e94-a0dd-386a50b28b8d')\"\n",
              "                title=\"Suggest charts\"\n",
              "                style=\"display:none;\">\n",
              "\n",
              "<svg xmlns=\"http://www.w3.org/2000/svg\" height=\"24px\"viewBox=\"0 0 24 24\"\n",
              "     width=\"24px\">\n",
              "    <g>\n",
              "        <path d=\"M19 3H5c-1.1 0-2 .9-2 2v14c0 1.1.9 2 2 2h14c1.1 0 2-.9 2-2V5c0-1.1-.9-2-2-2zM9 17H7v-7h2v7zm4 0h-2V7h2v10zm4 0h-2v-4h2v4z\"/>\n",
              "    </g>\n",
              "</svg>\n",
              "      </button>\n",
              "\n",
              "<style>\n",
              "  .colab-df-quickchart {\n",
              "      --bg-color: #E8F0FE;\n",
              "      --fill-color: #1967D2;\n",
              "      --hover-bg-color: #E2EBFA;\n",
              "      --hover-fill-color: #174EA6;\n",
              "      --disabled-fill-color: #AAA;\n",
              "      --disabled-bg-color: #DDD;\n",
              "  }\n",
              "\n",
              "  [theme=dark] .colab-df-quickchart {\n",
              "      --bg-color: #3B4455;\n",
              "      --fill-color: #D2E3FC;\n",
              "      --hover-bg-color: #434B5C;\n",
              "      --hover-fill-color: #FFFFFF;\n",
              "      --disabled-bg-color: #3B4455;\n",
              "      --disabled-fill-color: #666;\n",
              "  }\n",
              "\n",
              "  .colab-df-quickchart {\n",
              "    background-color: var(--bg-color);\n",
              "    border: none;\n",
              "    border-radius: 50%;\n",
              "    cursor: pointer;\n",
              "    display: none;\n",
              "    fill: var(--fill-color);\n",
              "    height: 32px;\n",
              "    padding: 0;\n",
              "    width: 32px;\n",
              "  }\n",
              "\n",
              "  .colab-df-quickchart:hover {\n",
              "    background-color: var(--hover-bg-color);\n",
              "    box-shadow: 0 1px 2px rgba(60, 64, 67, 0.3), 0 1px 3px 1px rgba(60, 64, 67, 0.15);\n",
              "    fill: var(--button-hover-fill-color);\n",
              "  }\n",
              "\n",
              "  .colab-df-quickchart-complete:disabled,\n",
              "  .colab-df-quickchart-complete:disabled:hover {\n",
              "    background-color: var(--disabled-bg-color);\n",
              "    fill: var(--disabled-fill-color);\n",
              "    box-shadow: none;\n",
              "  }\n",
              "\n",
              "  .colab-df-spinner {\n",
              "    border: 2px solid var(--fill-color);\n",
              "    border-color: transparent;\n",
              "    border-bottom-color: var(--fill-color);\n",
              "    animation:\n",
              "      spin 1s steps(1) infinite;\n",
              "  }\n",
              "\n",
              "  @keyframes spin {\n",
              "    0% {\n",
              "      border-color: transparent;\n",
              "      border-bottom-color: var(--fill-color);\n",
              "      border-left-color: var(--fill-color);\n",
              "    }\n",
              "    20% {\n",
              "      border-color: transparent;\n",
              "      border-left-color: var(--fill-color);\n",
              "      border-top-color: var(--fill-color);\n",
              "    }\n",
              "    30% {\n",
              "      border-color: transparent;\n",
              "      border-left-color: var(--fill-color);\n",
              "      border-top-color: var(--fill-color);\n",
              "      border-right-color: var(--fill-color);\n",
              "    }\n",
              "    40% {\n",
              "      border-color: transparent;\n",
              "      border-right-color: var(--fill-color);\n",
              "      border-top-color: var(--fill-color);\n",
              "    }\n",
              "    60% {\n",
              "      border-color: transparent;\n",
              "      border-right-color: var(--fill-color);\n",
              "    }\n",
              "    80% {\n",
              "      border-color: transparent;\n",
              "      border-right-color: var(--fill-color);\n",
              "      border-bottom-color: var(--fill-color);\n",
              "    }\n",
              "    90% {\n",
              "      border-color: transparent;\n",
              "      border-bottom-color: var(--fill-color);\n",
              "    }\n",
              "  }\n",
              "</style>\n",
              "\n",
              "      <script>\n",
              "        async function quickchart(key) {\n",
              "          const quickchartButtonEl =\n",
              "            document.querySelector('#' + key + ' button');\n",
              "          quickchartButtonEl.disabled = true;  // To prevent multiple clicks.\n",
              "          quickchartButtonEl.classList.add('colab-df-spinner');\n",
              "          try {\n",
              "            const charts = await google.colab.kernel.invokeFunction(\n",
              "                'suggestCharts', [key], {});\n",
              "          } catch (error) {\n",
              "            console.error('Error during call to suggestCharts:', error);\n",
              "          }\n",
              "          quickchartButtonEl.classList.remove('colab-df-spinner');\n",
              "          quickchartButtonEl.classList.add('colab-df-quickchart-complete');\n",
              "        }\n",
              "        (() => {\n",
              "          let quickchartButtonEl =\n",
              "            document.querySelector('#df-5b76568e-0b63-4e94-a0dd-386a50b28b8d button');\n",
              "          quickchartButtonEl.style.display =\n",
              "            google.colab.kernel.accessAllowed ? 'block' : 'none';\n",
              "        })();\n",
              "      </script>\n",
              "    </div>\n",
              "\n",
              "    </div>\n",
              "  </div>\n"
            ],
            "application/vnd.google.colaboratory.intrinsic+json": {
              "type": "dataframe",
              "summary": "{\n  \"name\": \"datos\",\n  \"rows\": 8,\n  \"fields\": [\n    {\n      \"column\": \"PassengerId\",\n      \"properties\": {\n        \"dtype\": \"number\",\n        \"std\": 320.8159711429856,\n        \"min\": 1.0,\n        \"max\": 891.0,\n        \"num_unique_values\": 6,\n        \"samples\": [\n          891.0,\n          446.0,\n          668.5\n        ],\n        \"semantic_type\": \"\",\n        \"description\": \"\"\n      }\n    },\n    {\n      \"column\": \"Survived\",\n      \"properties\": {\n        \"dtype\": \"number\",\n        \"std\": 314.8713661874558,\n        \"min\": 0.0,\n        \"max\": 891.0,\n        \"num_unique_values\": 5,\n        \"samples\": [\n          0.3838383838383838,\n          1.0,\n          0.4865924542648585\n        ],\n        \"semantic_type\": \"\",\n        \"description\": \"\"\n      }\n    },\n    {\n      \"column\": \"Pclass\",\n      \"properties\": {\n        \"dtype\": \"number\",\n        \"std\": 314.2523437079693,\n        \"min\": 0.8360712409770513,\n        \"max\": 891.0,\n        \"num_unique_values\": 6,\n        \"samples\": [\n          891.0,\n          2.308641975308642,\n          3.0\n        ],\n        \"semantic_type\": \"\",\n        \"description\": \"\"\n      }\n    },\n    {\n      \"column\": \"Age\",\n      \"properties\": {\n        \"dtype\": \"number\",\n        \"std\": 242.9056731818781,\n        \"min\": 0.42,\n        \"max\": 714.0,\n        \"num_unique_values\": 8,\n        \"samples\": [\n          29.69911764705882,\n          28.0,\n          714.0\n        ],\n        \"semantic_type\": \"\",\n        \"description\": \"\"\n      }\n    },\n    {\n      \"column\": \"SibSp\",\n      \"properties\": {\n        \"dtype\": \"number\",\n        \"std\": 314.4908277465442,\n        \"min\": 0.0,\n        \"max\": 891.0,\n        \"num_unique_values\": 6,\n        \"samples\": [\n          891.0,\n          0.5230078563411896,\n          8.0\n        ],\n        \"semantic_type\": \"\",\n        \"description\": \"\"\n      }\n    },\n    {\n      \"column\": \"Parch\",\n      \"properties\": {\n        \"dtype\": \"number\",\n        \"std\": 314.65971717879,\n        \"min\": 0.0,\n        \"max\": 891.0,\n        \"num_unique_values\": 5,\n        \"samples\": [\n          0.38159371492704824,\n          6.0,\n          0.8060572211299559\n        ],\n        \"semantic_type\": \"\",\n        \"description\": \"\"\n      }\n    },\n    {\n      \"column\": \"Fare\",\n      \"properties\": {\n        \"dtype\": \"number\",\n        \"std\": 330.6256632228577,\n        \"min\": 0.0,\n        \"max\": 891.0,\n        \"num_unique_values\": 8,\n        \"samples\": [\n          32.204207968574636,\n          14.4542,\n          891.0\n        ],\n        \"semantic_type\": \"\",\n        \"description\": \"\"\n      }\n    }\n  ]\n}"
            }
          },
          "metadata": {},
          "execution_count": 394
        }
      ]
    },
    {
      "cell_type": "markdown",
      "source": [
        "## Verificar gráfico que muestra la cantidad de supervivientes en el caso titanic."
      ],
      "metadata": {
        "id": "mJVxwhM8ZQL9"
      }
    },
    {
      "cell_type": "code",
      "source": [
        "import seaborn as sb\n",
        "sb.countplot(x=\"Survived\", data=datos)"
      ],
      "metadata": {
        "id": "MT8SQMpdQwXn",
        "colab": {
          "base_uri": "https://localhost:8080/",
          "height": 467
        },
        "outputId": "5ebef387-98d6-4955-eb63-25695a5deb8c"
      },
      "execution_count": 395,
      "outputs": [
        {
          "output_type": "execute_result",
          "data": {
            "text/plain": [
              "<Axes: xlabel='Survived', ylabel='count'>"
            ]
          },
          "metadata": {},
          "execution_count": 395
        },
        {
          "output_type": "display_data",
          "data": {
            "text/plain": [
              "<Figure size 640x480 with 1 Axes>"
            ],
            "image/png": "[encoded data removed]"
          },
          "metadata": {}
        }
      ]
    },
    {
      "cell_type": "markdown",
      "source": [
        "La mayoría de personas murieron o no sobrevivió. No es muy especifico si no se utilizan otros factores (edad, sexo, etc.)"
      ],
      "metadata": {
        "id": "rVLz0pV5cDDq"
      }
    },
    {
      "cell_type": "markdown",
      "source": [
        "## Verificar gráfico que muestra la cantidad de supervivientes por género"
      ],
      "metadata": {
        "id": "NNj-7Pk0Zity"
      }
    },
    {
      "cell_type": "code",
      "source": [
        "sb.countplot(x=\"Survived\", data=datos, hue=\"Sex\")"
      ],
      "metadata": {
        "id": "fZubkgG1Q5NE",
        "colab": {
          "base_uri": "https://localhost:8080/",
          "height": 467
        },
        "outputId": "0a700bf1-b911-464f-a777-4282c440628b"
      },
      "execution_count": 396,
      "outputs": [
        {
          "output_type": "execute_result",
          "data": {
            "text/plain": [
              "<Axes: xlabel='Survived', ylabel='count'>"
            ]
          },
          "metadata": {},
          "execution_count": 396
        },
        {
          "output_type": "display_data",
          "data": {
            "text/plain": [
              "<Figure size 640x480 with 1 Axes>"
            ],
            "image/png": "[encoded data removed]"
          },
          "metadata": {}
        }
      ]
    },
    {
      "cell_type": "markdown",
      "source": [
        "La mayor cantidad de muertes o la mortalidad fue en hombres comparado al sexo femenino."
      ],
      "metadata": {
        "id": "ja80zsdNcc19"
      }
    },
    {
      "cell_type": "markdown",
      "source": [
        "## Verificar si hay valores nulos en cada columna del DataFrame"
      ],
      "metadata": {
        "id": "GwROQAEFX4nU"
      }
    },
    {
      "cell_type": "code",
      "source": [
        "\n",
        "datos.isna().sum()"
      ],
      "metadata": {
        "id": "0Q0tp2y4RCvW",
        "colab": {
          "base_uri": "https://localhost:8080/",
          "height": 460
        },
        "outputId": "c68846f6-ecf5-4a99-90f2-3952be358e72"
      },
      "execution_count": 397,
      "outputs": [
        {
          "output_type": "execute_result",
          "data": {
            "text/plain": [
              "PassengerId      0\n",
              "Survived         0\n",
              "Pclass           0\n",
              "Name             0\n",
              "Sex              0\n",
              "Age            177\n",
              "SibSp            0\n",
              "Parch            0\n",
              "Ticket           0\n",
              "Fare             0\n",
              "Cabin          687\n",
              "Embarked         2\n",
              "dtype: int64"
            ],
            "text/html": [
              "<div>\n",
              "<style scoped>\n",
              "    .dataframe tbody tr th:only-of-type {\n",
              "        vertical-align: middle;\n",
              "    }\n",
              "\n",
              "    .dataframe tbody tr th {\n",
              "        vertical-align: top;\n",
              "    }\n",
              "\n",
              "    .dataframe thead th {\n",
              "        text-align: right;\n",
              "    }\n",
              "</style>\n",
              "<table border=\"1\" class=\"dataframe\">\n",
              "  <thead>\n",
              "    <tr style=\"text-align: right;\">\n",
              "      <th></th>\n",
              "      <th>0</th>\n",
              "    </tr>\n",
              "  </thead>\n",
              "  <tbody>\n",
              "    <tr>\n",
              "      <th>PassengerId</th>\n",
              "      <td>0</td>\n",
              "    </tr>\n",
              "    <tr>\n",
              "      <th>Survived</th>\n",
              "      <td>0</td>\n",
              "    </tr>\n",
              "    <tr>\n",
              "      <th>Pclass</th>\n",
              "      <td>0</td>\n",
              "    </tr>\n",
              "    <tr>\n",
              "      <th>Name</th>\n",
              "      <td>0</td>\n",
              "    </tr>\n",
              "    <tr>\n",
              "      <th>Sex</th>\n",
              "      <td>0</td>\n",
              "    </tr>\n",
              "    <tr>\n",
              "      <th>Age</th>\n",
              "      <td>177</td>\n",
              "    </tr>\n",
              "    <tr>\n",
              "      <th>SibSp</th>\n",
              "      <td>0</td>\n",
              "    </tr>\n",
              "    <tr>\n",
              "      <th>Parch</th>\n",
              "      <td>0</td>\n",
              "    </tr>\n",
              "    <tr>\n",
              "      <th>Ticket</th>\n",
              "      <td>0</td>\n",
              "    </tr>\n",
              "    <tr>\n",
              "      <th>Fare</th>\n",
              "      <td>0</td>\n",
              "    </tr>\n",
              "    <tr>\n",
              "      <th>Cabin</th>\n",
              "      <td>687</td>\n",
              "    </tr>\n",
              "    <tr>\n",
              "      <th>Embarked</th>\n",
              "      <td>2</td>\n",
              "    </tr>\n",
              "  </tbody>\n",
              "</table>\n",
              "</div><br><label><b>dtype:</b> int64</label>"
            ]
          },
          "metadata": {},
          "execution_count": 397
        }
      ]
    },
    {
      "cell_type": "markdown",
      "source": [
        "Entre las propiedades o variables, que poseen datos nulos están la edad, la cabina y el punto donde se embarcaron algunos de los pasajeros. La edad en especial que muestra que al menos 177 pasajeros no poseen una edad definida."
      ],
      "metadata": {
        "id": "c8eVhQpYc62m"
      }
    },
    {
      "cell_type": "markdown",
      "source": [
        "## Crear un histograma para visualizar la distribución de la columna 'Age'\n",
        "\n",
        "- Se utiliza seaborn para crear el gráfico de distribución (displot), 'x=\"Age\"' para colocar la edad en el eje x.\n",
        "\n",
        "En este caso, se observa la variable de edad sin modificarla aún, esto para precisamente observar en que rangos de edad se encuentran los pasajeros antes de remover los registros de edad nulos que hay en el dataset."
      ],
      "metadata": {
        "id": "0EaCAnO3X7Qp"
      }
    },
    {
      "cell_type": "code",
      "source": [
        "sb.displot(x=\"Age\", data=datos)"
      ],
      "metadata": {
        "id": "VvmExAXQRfR7",
        "colab": {
          "base_uri": "https://localhost:8080/",
          "height": 524
        },
        "outputId": "bfd7a43d-0e57-447b-a95a-7c779aa25b6e"
      },
      "execution_count": 398,
      "outputs": [
        {
          "output_type": "execute_result",
          "data": {
            "text/plain": [
              "<seaborn.axisgrid.FacetGrid at 0x79fc23192ff0>"
            ]
          },
          "metadata": {},
          "execution_count": 398
        },
        {
          "output_type": "display_data",
          "data": {
            "text/plain": [
              "<Figure size 500x500 with 1 Axes>"
            ],
            "image/png": "[encoded data removed]"
          },
          "metadata": {}
        }
      ]
    },
    {
      "cell_type": "markdown",
      "source": [
        "Los rangos de edad de los pasajeros estan mayormente distribuidos entre los 20-40 años."
      ],
      "metadata": {
        "id": "tD-QdfledY8c"
      }
    },
    {
      "cell_type": "markdown",
      "source": [
        "## Verificar y mostrar la columna 'Age'\n"
      ],
      "metadata": {
        "id": "_LdpgBCvYFwo"
      }
    },
    {
      "cell_type": "code",
      "source": [
        "\n",
        "datos[\"Age\"]"
      ],
      "metadata": {
        "id": "tCNxMhy3RpbB",
        "colab": {
          "base_uri": "https://localhost:8080/",
          "height": 458
        },
        "outputId": "0289e932-bfd0-4767-b4a0-07054fb0bbd5"
      },
      "execution_count": 399,
      "outputs": [
        {
          "output_type": "execute_result",
          "data": {
            "text/plain": [
              "0      22.0\n",
              "1      38.0\n",
              "2      26.0\n",
              "3      35.0\n",
              "4      35.0\n",
              "       ... \n",
              "886    27.0\n",
              "887    19.0\n",
              "888     NaN\n",
              "889    26.0\n",
              "890    32.0\n",
              "Name: Age, Length: 891, dtype: float64"
            ],
            "text/html": [
              "<div>\n",
              "<style scoped>\n",
              "    .dataframe tbody tr th:only-of-type {\n",
              "        vertical-align: middle;\n",
              "    }\n",
              "\n",
              "    .dataframe tbody tr th {\n",
              "        vertical-align: top;\n",
              "    }\n",
              "\n",
              "    .dataframe thead th {\n",
              "        text-align: right;\n",
              "    }\n",
              "</style>\n",
              "<table border=\"1\" class=\"dataframe\">\n",
              "  <thead>\n",
              "    <tr style=\"text-align: right;\">\n",
              "      <th></th>\n",
              "      <th>Age</th>\n",
              "    </tr>\n",
              "  </thead>\n",
              "  <tbody>\n",
              "    <tr>\n",
              "      <th>0</th>\n",
              "      <td>22.0</td>\n",
              "    </tr>\n",
              "    <tr>\n",
              "      <th>1</th>\n",
              "      <td>38.0</td>\n",
              "    </tr>\n",
              "    <tr>\n",
              "      <th>2</th>\n",
              "      <td>26.0</td>\n",
              "    </tr>\n",
              "    <tr>\n",
              "      <th>3</th>\n",
              "      <td>35.0</td>\n",
              "    </tr>\n",
              "    <tr>\n",
              "      <th>4</th>\n",
              "      <td>35.0</td>\n",
              "    </tr>\n",
              "    <tr>\n",
              "      <th>...</th>\n",
              "      <td>...</td>\n",
              "    </tr>\n",
              "    <tr>\n",
              "      <th>886</th>\n",
              "      <td>27.0</td>\n",
              "    </tr>\n",
              "    <tr>\n",
              "      <th>887</th>\n",
              "      <td>19.0</td>\n",
              "    </tr>\n",
              "    <tr>\n",
              "      <th>888</th>\n",
              "      <td>NaN</td>\n",
              "    </tr>\n",
              "    <tr>\n",
              "      <th>889</th>\n",
              "      <td>26.0</td>\n",
              "    </tr>\n",
              "    <tr>\n",
              "      <th>890</th>\n",
              "      <td>32.0</td>\n",
              "    </tr>\n",
              "  </tbody>\n",
              "</table>\n",
              "<p>891 rows × 1 columns</p>\n",
              "</div><br><label><b>dtype:</b> float64</label>"
            ]
          },
          "metadata": {},
          "execution_count": 399
        }
      ]
    },
    {
      "cell_type": "markdown",
      "source": [
        "Se comprueba tal como en el `datos.isna().sum()` que el dataset posee supervivientes sin edad aparente lo cual necesita ser estudiado."
      ],
      "metadata": {
        "id": "DZbnyupEZuVx"
      }
    },
    {
      "cell_type": "markdown",
      "source": [
        "## Edad promedio de los supervivientes"
      ],
      "metadata": {
        "id": "JlfnA0vuaCjo"
      }
    },
    {
      "cell_type": "code",
      "source": [
        "datos[\"Age\"].mean()"
      ],
      "metadata": {
        "id": "xguO31vnRunm",
        "colab": {
          "base_uri": "https://localhost:8080/"
        },
        "outputId": "0cb6f4ea-7760-4cff-8718-a2decb8f4526"
      },
      "execution_count": 400,
      "outputs": [
        {
          "output_type": "execute_result",
          "data": {
            "text/plain": [
              "np.float64(29.69911764705882)"
            ]
          },
          "metadata": {},
          "execution_count": 400
        }
      ]
    },
    {
      "cell_type": "markdown",
      "source": [
        "La edad promedio de los pasajeros ronda los 29 años de edad."
      ],
      "metadata": {
        "id": "SeDOE2ldZtjv"
      }
    },
    {
      "cell_type": "markdown",
      "source": [
        "## Limpiar valores nulos (Nan, None)"
      ],
      "metadata": {
        "id": "XY5B9Fd6m6ku"
      }
    },
    {
      "cell_type": "code",
      "source": [
        "datos[\"Age\"] = datos[\"Age\"].fillna(datos[\"Age\"].mean())"
      ],
      "metadata": {
        "id": "KHyPUICQR_Z9"
      },
      "execution_count": 401,
      "outputs": []
    },
    {
      "cell_type": "markdown",
      "source": [
        "Se ingresa la edad promedio de los pasajeros del barco a pasajeros sin edad aparente."
      ],
      "metadata": {
        "id": "8E0OwA29mp30"
      }
    },
    {
      "cell_type": "code",
      "source": [
        "datos[\"Age\"]"
      ],
      "metadata": {
        "id": "e-GV2EuwSEKt",
        "colab": {
          "base_uri": "https://localhost:8080/",
          "height": 458
        },
        "outputId": "7f624960-8c55-432f-f3e2-8196908a22a4"
      },
      "execution_count": 402,
      "outputs": [
        {
          "output_type": "execute_result",
          "data": {
            "text/plain": [
              "0      22.000000\n",
              "1      38.000000\n",
              "2      26.000000\n",
              "3      35.000000\n",
              "4      35.000000\n",
              "         ...    \n",
              "886    27.000000\n",
              "887    19.000000\n",
              "888    29.699118\n",
              "889    26.000000\n",
              "890    32.000000\n",
              "Name: Age, Length: 891, dtype: float64"
            ],
            "text/html": [
              "<div>\n",
              "<style scoped>\n",
              "    .dataframe tbody tr th:only-of-type {\n",
              "        vertical-align: middle;\n",
              "    }\n",
              "\n",
              "    .dataframe tbody tr th {\n",
              "        vertical-align: top;\n",
              "    }\n",
              "\n",
              "    .dataframe thead th {\n",
              "        text-align: right;\n",
              "    }\n",
              "</style>\n",
              "<table border=\"1\" class=\"dataframe\">\n",
              "  <thead>\n",
              "    <tr style=\"text-align: right;\">\n",
              "      <th></th>\n",
              "      <th>Age</th>\n",
              "    </tr>\n",
              "  </thead>\n",
              "  <tbody>\n",
              "    <tr>\n",
              "      <th>0</th>\n",
              "      <td>22.000000</td>\n",
              "    </tr>\n",
              "    <tr>\n",
              "      <th>1</th>\n",
              "      <td>38.000000</td>\n",
              "    </tr>\n",
              "    <tr>\n",
              "      <th>2</th>\n",
              "      <td>26.000000</td>\n",
              "    </tr>\n",
              "    <tr>\n",
              "      <th>3</th>\n",
              "      <td>35.000000</td>\n",
              "    </tr>\n",
              "    <tr>\n",
              "      <th>4</th>\n",
              "      <td>35.000000</td>\n",
              "    </tr>\n",
              "    <tr>\n",
              "      <th>...</th>\n",
              "      <td>...</td>\n",
              "    </tr>\n",
              "    <tr>\n",
              "      <th>886</th>\n",
              "      <td>27.000000</td>\n",
              "    </tr>\n",
              "    <tr>\n",
              "      <th>887</th>\n",
              "      <td>19.000000</td>\n",
              "    </tr>\n",
              "    <tr>\n",
              "      <th>888</th>\n",
              "      <td>29.699118</td>\n",
              "    </tr>\n",
              "    <tr>\n",
              "      <th>889</th>\n",
              "      <td>26.000000</td>\n",
              "    </tr>\n",
              "    <tr>\n",
              "      <th>890</th>\n",
              "      <td>32.000000</td>\n",
              "    </tr>\n",
              "  </tbody>\n",
              "</table>\n",
              "<p>891 rows × 1 columns</p>\n",
              "</div><br><label><b>dtype:</b> float64</label>"
            ]
          },
          "metadata": {},
          "execution_count": 402
        }
      ]
    },
    {
      "cell_type": "markdown",
      "source": [
        "Se verifica que ahora si no hay valores nulos.\n",
        "Los 891 pasajeros tienen edad.\n",
        "\n",
        "Los pasajeros que no poseen una edad valida fueron establecidos con la edad promedio del resto de la tripulación que es de 29 años."
      ],
      "metadata": {
        "id": "wRmWvmCMdl91"
      }
    },
    {
      "cell_type": "markdown",
      "source": [
        "## Verificar las edades mínimas y máximas de los pasajeros"
      ],
      "metadata": {
        "id": "6I8d_9KQaN85"
      }
    },
    {
      "cell_type": "code",
      "source": [
        "min_age= datos[\"Age\"].min()\n",
        "max_age= datos[\"Age\"].max()\n",
        "print(f\"Edad mínima: {min_age}\")\n",
        "print(f\"Edad máxima: {max_age}\")"
      ],
      "metadata": {
        "colab": {
          "base_uri": "https://localhost:8080/"
        },
        "id": "CZpq7oYoiZS1",
        "outputId": "ce6e4347-3697-4a50-96a3-0d06592721d4"
      },
      "execution_count": 403,
      "outputs": [
        {
          "output_type": "stream",
          "name": "stdout",
          "text": [
            "Edad mínima: 0.42\n",
            "Edad máxima: 80.0\n"
          ]
        }
      ]
    },
    {
      "cell_type": "markdown",
      "source": [
        "Se calcula y muestra la edad mínima y máxima en la columna 'Age' después de haber rellenado los valores nulos, se estipula o se observa que hay bebes y gente de mayor edad abordo del barco."
      ],
      "metadata": {
        "id": "t-1L4ZrIajWw"
      }
    },
    {
      "cell_type": "markdown",
      "source": [
        "## Histograma de edades más específico"
      ],
      "metadata": {
        "id": "ePrN66c01_xQ"
      }
    },
    {
      "cell_type": "code",
      "source": [
        "\n",
        "sns.set_style(\"whitegrid\")\n",
        "\n",
        "# Histograma de Edades\n",
        "plt.figure(figsize=(15, 6))\n",
        "ax = sns.histplot(data=datos, x='Age', color='palevioletred', kde=True, shrink=.8)\n",
        "plt.title('Histograma de Edades')\n",
        "plt.xlabel('Age (Edad de los pasajeros)')\n",
        "plt.ylabel('Frecuencia')\n",
        "for container in ax.containers:\n",
        "    ax.bar_label(container, padding=2)\n",
        "plt.show()"
      ],
      "metadata": {
        "colab": {
          "base_uri": "https://localhost:8080/",
          "height": 484
        },
        "id": "XAhWXM2E2G6k",
        "outputId": "262d0660-09e8-4ccd-d5f7-0e7c425e20ce"
      },
      "execution_count": 404,
      "outputs": [
        {
          "output_type": "display_data",
          "data": {
            "text/plain": [
              "<Figure size 1500x600 with 1 Axes>"
            ],
            "image/png": "[encoded data removed]"
          },
          "metadata": {}
        }
      ]
    },
    {
      "cell_type": "markdown",
      "source": [
        "La edad de los pasajeros ronda mayormente entre los 20 y 40 años.\n",
        "El hecho de haber ajustado a los pasajeros sin edad a utilizar la edad promedio hizo que la cantidad de personas con la edad de 29 años escalará mucho."
      ],
      "metadata": {
        "id": "SclEHR22arI9"
      }
    },
    {
      "cell_type": "markdown",
      "source": [
        "## Verificar otras columnas con datos nulos"
      ],
      "metadata": {
        "id": "fEKoZp_gbHVQ"
      }
    },
    {
      "cell_type": "code",
      "source": [
        "datos.isna().sum()"
      ],
      "metadata": {
        "id": "z5P7zGmxSGGu",
        "colab": {
          "base_uri": "https://localhost:8080/",
          "height": 460
        },
        "outputId": "9ade76ab-43bc-4d02-e4ab-38295e6d77d4"
      },
      "execution_count": 405,
      "outputs": [
        {
          "output_type": "execute_result",
          "data": {
            "text/plain": [
              "PassengerId      0\n",
              "Survived         0\n",
              "Pclass           0\n",
              "Name             0\n",
              "Sex              0\n",
              "Age              0\n",
              "SibSp            0\n",
              "Parch            0\n",
              "Ticket           0\n",
              "Fare             0\n",
              "Cabin          687\n",
              "Embarked         2\n",
              "dtype: int64"
            ],
            "text/html": [
              "<div>\n",
              "<style scoped>\n",
              "    .dataframe tbody tr th:only-of-type {\n",
              "        vertical-align: middle;\n",
              "    }\n",
              "\n",
              "    .dataframe tbody tr th {\n",
              "        vertical-align: top;\n",
              "    }\n",
              "\n",
              "    .dataframe thead th {\n",
              "        text-align: right;\n",
              "    }\n",
              "</style>\n",
              "<table border=\"1\" class=\"dataframe\">\n",
              "  <thead>\n",
              "    <tr style=\"text-align: right;\">\n",
              "      <th></th>\n",
              "      <th>0</th>\n",
              "    </tr>\n",
              "  </thead>\n",
              "  <tbody>\n",
              "    <tr>\n",
              "      <th>PassengerId</th>\n",
              "      <td>0</td>\n",
              "    </tr>\n",
              "    <tr>\n",
              "      <th>Survived</th>\n",
              "      <td>0</td>\n",
              "    </tr>\n",
              "    <tr>\n",
              "      <th>Pclass</th>\n",
              "      <td>0</td>\n",
              "    </tr>\n",
              "    <tr>\n",
              "      <th>Name</th>\n",
              "      <td>0</td>\n",
              "    </tr>\n",
              "    <tr>\n",
              "      <th>Sex</th>\n",
              "      <td>0</td>\n",
              "    </tr>\n",
              "    <tr>\n",
              "      <th>Age</th>\n",
              "      <td>0</td>\n",
              "    </tr>\n",
              "    <tr>\n",
              "      <th>SibSp</th>\n",
              "      <td>0</td>\n",
              "    </tr>\n",
              "    <tr>\n",
              "      <th>Parch</th>\n",
              "      <td>0</td>\n",
              "    </tr>\n",
              "    <tr>\n",
              "      <th>Ticket</th>\n",
              "      <td>0</td>\n",
              "    </tr>\n",
              "    <tr>\n",
              "      <th>Fare</th>\n",
              "      <td>0</td>\n",
              "    </tr>\n",
              "    <tr>\n",
              "      <th>Cabin</th>\n",
              "      <td>687</td>\n",
              "    </tr>\n",
              "    <tr>\n",
              "      <th>Embarked</th>\n",
              "      <td>2</td>\n",
              "    </tr>\n",
              "  </tbody>\n",
              "</table>\n",
              "</div><br><label><b>dtype:</b> int64</label>"
            ]
          },
          "metadata": {},
          "execution_count": 405
        }
      ]
    },
    {
      "cell_type": "markdown",
      "source": [
        "Se observa que más de la mitad de los pasajeros no poseen un cuarto o habitación registrado. Y una cantidad de dos pasajeros no poseen datos de en que punto se embarcaron podrían posiblemente ser gente de clase baja."
      ],
      "metadata": {
        "id": "_L7__y6ebGON"
      }
    },
    {
      "cell_type": "markdown",
      "source": [
        "## Descartar la columna o variable \"Cabin\""
      ],
      "metadata": {
        "id": "C_8qGjocbe9o"
      }
    },
    {
      "cell_type": "markdown",
      "source": [
        "El hecho de que la mayoría de pasajeros no tenga un cuarto o habitación, no es muy relevante para este estudio ya que se estudiará si el pasajero sobrevivió a partir de su género, edad o clase."
      ],
      "metadata": {
        "id": "Pg2CJE3tbkVw"
      }
    },
    {
      "cell_type": "code",
      "source": [
        "datos = datos.drop([\"Cabin\"], axis=1)"
      ],
      "metadata": {
        "id": "kJz6C-f2SQxx"
      },
      "execution_count": 406,
      "outputs": []
    },
    {
      "cell_type": "markdown",
      "source": [
        "Así que como entre las variables con mayor datos nulos esta la cabina o cuarto donde se hospedaban, este dato no se utilizará así que se remueve."
      ],
      "metadata": {
        "id": "NhFloVZxeFps"
      }
    },
    {
      "cell_type": "markdown",
      "source": [
        "## Observar variable \"Embarked\""
      ],
      "metadata": {
        "id": "lXdxxnLc49Cz"
      }
    },
    {
      "cell_type": "code",
      "source": [
        "datos[\"Embarked\"].value_counts()"
      ],
      "metadata": {
        "id": "C04tlv5sSWAR",
        "colab": {
          "base_uri": "https://localhost:8080/",
          "height": 210
        },
        "outputId": "144446d6-87a1-4c5e-ce2a-4b4f6a0e0792"
      },
      "execution_count": 407,
      "outputs": [
        {
          "output_type": "execute_result",
          "data": {
            "text/plain": [
              "Embarked\n",
              "S    644\n",
              "C    168\n",
              "Q     77\n",
              "Name: count, dtype: int64"
            ],
            "text/html": [
              "<div>\n",
              "<style scoped>\n",
              "    .dataframe tbody tr th:only-of-type {\n",
              "        vertical-align: middle;\n",
              "    }\n",
              "\n",
              "    .dataframe tbody tr th {\n",
              "        vertical-align: top;\n",
              "    }\n",
              "\n",
              "    .dataframe thead th {\n",
              "        text-align: right;\n",
              "    }\n",
              "</style>\n",
              "<table border=\"1\" class=\"dataframe\">\n",
              "  <thead>\n",
              "    <tr style=\"text-align: right;\">\n",
              "      <th></th>\n",
              "      <th>count</th>\n",
              "    </tr>\n",
              "    <tr>\n",
              "      <th>Embarked</th>\n",
              "      <th></th>\n",
              "    </tr>\n",
              "  </thead>\n",
              "  <tbody>\n",
              "    <tr>\n",
              "      <th>S</th>\n",
              "      <td>644</td>\n",
              "    </tr>\n",
              "    <tr>\n",
              "      <th>C</th>\n",
              "      <td>168</td>\n",
              "    </tr>\n",
              "    <tr>\n",
              "      <th>Q</th>\n",
              "      <td>77</td>\n",
              "    </tr>\n",
              "  </tbody>\n",
              "</table>\n",
              "</div><br><label><b>dtype:</b> int64</label>"
            ]
          },
          "metadata": {},
          "execution_count": 407
        }
      ]
    },
    {
      "cell_type": "markdown",
      "source": [
        "Entre las tres ciudades donde se embarcaron los pasajeros:\n",
        "C = Cherbourg, Q = Queenstown, S = Southampton\n",
        "\n",
        "La mayoría de pasajeros se embarcaron en Southampton."
      ],
      "metadata": {
        "id": "tG_NVLKqeeVm"
      }
    },
    {
      "cell_type": "code",
      "source": [
        "emb_count= 644 + 168 + 77\n",
        "print(f'{emb_count} / 891')"
      ],
      "metadata": {
        "colab": {
          "base_uri": "https://localhost:8080/"
        },
        "id": "SupUT0Nw5FR4",
        "outputId": "b26fc3b7-0dfb-47f9-9c7e-a4487d1b8d0b"
      },
      "execution_count": 408,
      "outputs": [
        {
          "output_type": "stream",
          "name": "stdout",
          "text": [
            "889 / 891\n"
          ]
        }
      ]
    },
    {
      "cell_type": "markdown",
      "source": [
        "Dos pasajeros no poseen un punto donde embarcaron. Se podría imputar los valores faltantes con la moda 'S' en este caso, pero son solo 2 valores,la diferencia en el rendimiento de los modelos sería mínima."
      ],
      "metadata": {
        "id": "-bePqiQ85Mso"
      }
    },
    {
      "cell_type": "markdown",
      "source": [
        "### Se descartan los pasajeros sin la variable 'Embarked'"
      ],
      "metadata": {
        "id": "x_vD_3I643Ms"
      }
    },
    {
      "cell_type": "code",
      "source": [
        "datos = datos.dropna()"
      ],
      "metadata": {
        "id": "ya42gGoXSdtE"
      },
      "execution_count": 409,
      "outputs": []
    },
    {
      "cell_type": "markdown",
      "source": [
        "Se utiliza la función para eliminar columnas con valores None, Nan."
      ],
      "metadata": {
        "id": "1nhCh12j8F6W"
      }
    },
    {
      "cell_type": "code",
      "source": [
        "datos.head()"
      ],
      "metadata": {
        "id": "Q51ILlwYSlFe",
        "colab": {
          "base_uri": "https://localhost:8080/",
          "height": 241
        },
        "outputId": "f60a256d-7560-418e-fabe-d6ecb115056b"
      },
      "execution_count": 410,
      "outputs": [
        {
          "output_type": "execute_result",
          "data": {
            "text/plain": [
              "   PassengerId  Survived  Pclass  \\\n",
              "0            1         0       3   \n",
              "1            2         1       1   \n",
              "2            3         1       3   \n",
              "3            4         1       1   \n",
              "4            5         0       3   \n",
              "\n",
              "                                                Name     Sex   Age  SibSp  \\\n",
              "0                            Braund, Mr. Owen Harris    male  22.0      1   \n",
              "1  Cumings, Mrs. John Bradley (Florence Briggs Th...  female  38.0      1   \n",
              "2                             Heikkinen, Miss. Laina  female  26.0      0   \n",
              "3       Futrelle, Mrs. Jacques Heath (Lily May Peel)  female  35.0      1   \n",
              "4                           Allen, Mr. William Henry    male  35.0      0   \n",
              "\n",
              "   Parch            Ticket     Fare Embarked  \n",
              "0      0         A/5 21171   7.2500        S  \n",
              "1      0          PC 17599  71.2833        C  \n",
              "2      0  STON/O2. 3101282   7.9250        S  \n",
              "3      0            113803  53.1000        S  \n",
              "4      0            373450   8.0500        S  "
            ],
            "text/html": [
              "\n",
              "  <div id=\"df-44614f30-dfc5-4c0d-bbb6-a981c76ef0f4\" class=\"colab-df-container\">\n",
              "    <div>\n",
              "<style scoped>\n",
              "    .dataframe tbody tr th:only-of-type {\n",
              "        vertical-align: middle;\n",
              "    }\n",
              "\n",
              "    .dataframe tbody tr th {\n",
              "        vertical-align: top;\n",
              "    }\n",
              "\n",
              "    .dataframe thead th {\n",
              "        text-align: right;\n",
              "    }\n",
              "</style>\n",
              "<table border=\"1\" class=\"dataframe\">\n",
              "  <thead>\n",
              "    <tr style=\"text-align: right;\">\n",
              "      <th></th>\n",
              "      <th>PassengerId</th>\n",
              "      <th>Survived</th>\n",
              "      <th>Pclass</th>\n",
              "      <th>Name</th>\n",
              "      <th>Sex</th>\n",
              "      <th>Age</th>\n",
              "      <th>SibSp</th>\n",
              "      <th>Parch</th>\n",
              "      <th>Ticket</th>\n",
              "      <th>Fare</th>\n",
              "      <th>Embarked</th>\n",
              "    </tr>\n",
              "  </thead>\n",
              "  <tbody>\n",
              "    <tr>\n",
              "      <th>0</th>\n",
              "      <td>1</td>\n",
              "      <td>0</td>\n",
              "      <td>3</td>\n",
              "      <td>Braund, Mr. Owen Harris</td>\n",
              "      <td>male</td>\n",
              "      <td>22.0</td>\n",
              "      <td>1</td>\n",
              "      <td>0</td>\n",
              "      <td>A/5 21171</td>\n",
              "      <td>7.2500</td>\n",
              "      <td>S</td>\n",
              "    </tr>\n",
              "    <tr>\n",
              "      <th>1</th>\n",
              "      <td>2</td>\n",
              "      <td>1</td>\n",
              "      <td>1</td>\n",
              "      <td>Cumings, Mrs. John Bradley (Florence Briggs Th...</td>\n",
              "      <td>female</td>\n",
              "      <td>38.0</td>\n",
              "      <td>1</td>\n",
              "      <td>0</td>\n",
              "      <td>PC 17599</td>\n",
              "      <td>71.2833</td>\n",
              "      <td>C</td>\n",
              "    </tr>\n",
              "    <tr>\n",
              "      <th>2</th>\n",
              "      <td>3</td>\n",
              "      <td>1</td>\n",
              "      <td>3</td>\n",
              "      <td>Heikkinen, Miss. Laina</td>\n",
              "      <td>female</td>\n",
              "      <td>26.0</td>\n",
              "      <td>0</td>\n",
              "      <td>0</td>\n",
              "      <td>STON/O2. 3101282</td>\n",
              "      <td>7.9250</td>\n",
              "      <td>S</td>\n",
              "    </tr>\n",
              "    <tr>\n",
              "      <th>3</th>\n",
              "      <td>4</td>\n",
              "      <td>1</td>\n",
              "      <td>1</td>\n",
              "      <td>Futrelle, Mrs. Jacques Heath (Lily May Peel)</td>\n",
              "      <td>female</td>\n",
              "      <td>35.0</td>\n",
              "      <td>1</td>\n",
              "      <td>0</td>\n",
              "      <td>113803</td>\n",
              "      <td>53.1000</td>\n",
              "      <td>S</td>\n",
              "    </tr>\n",
              "    <tr>\n",
              "      <th>4</th>\n",
              "      <td>5</td>\n",
              "      <td>0</td>\n",
              "      <td>3</td>\n",
              "      <td>Allen, Mr. William Henry</td>\n",
              "      <td>male</td>\n",
              "      <td>35.0</td>\n",
              "      <td>0</td>\n",
              "      <td>0</td>\n",
              "      <td>373450</td>\n",
              "      <td>8.0500</td>\n",
              "      <td>S</td>\n",
              "    </tr>\n",
              "  </tbody>\n",
              "</table>\n",
              "</div>\n",
              "    <div class=\"colab-df-buttons\">\n",
              "\n",
              "  <div class=\"colab-df-container\">\n",
              "    <button class=\"colab-df-convert\" onclick=\"convertToInteractive('df-44614f30-dfc5-4c0d-bbb6-a981c76ef0f4')\"\n",
              "            title=\"Convert this dataframe to an interactive table.\"\n",
              "            style=\"display:none;\">\n",
              "\n",
              "  <svg xmlns=\"http://www.w3.org/2000/svg\" height=\"24px\" viewBox=\"0 -960 960 960\">\n",
              "    <path d=\"M120-120v-720h720v720H120Zm60-500h600v-160H180v160Zm220 220h160v-160H400v160Zm0 220h160v-160H400v160ZM180-400h160v-160H180v160Zm440 0h160v-160H620v160ZM180-180h160v-160H180v160Zm440 0h160v-160H620v160Z\"/>\n",
              "  </svg>\n",
              "    </button>\n",
              "\n",
              "  <style>\n",
              "    .colab-df-container {\n",
              "      display:flex;\n",
              "      gap: 12px;\n",
              "    }\n",
              "\n",
              "    .colab-df-convert {\n",
              "      background-color: #E8F0FE;\n",
              "      border: none;\n",
              "      border-radius: 50%;\n",
              "      cursor: pointer;\n",
              "      display: none;\n",
              "      fill: #1967D2;\n",
              "      height: 32px;\n",
              "      padding: 0 0 0 0;\n",
              "      width: 32px;\n",
              "    }\n",
              "\n",
              "    .colab-df-convert:hover {\n",
              "      background-color: #E2EBFA;\n",
              "      box-shadow: 0px 1px 2px rgba(60, 64, 67, 0.3), 0px 1px 3px 1px rgba(60, 64, 67, 0.15);\n",
              "      fill: #174EA6;\n",
              "    }\n",
              "\n",
              "    .colab-df-buttons div {\n",
              "      margin-bottom: 4px;\n",
              "    }\n",
              "\n",
              "    [theme=dark] .colab-df-convert {\n",
              "      background-color: #3B4455;\n",
              "      fill: #D2E3FC;\n",
              "    }\n",
              "\n",
              "    [theme=dark] .colab-df-convert:hover {\n",
              "      background-color: #434B5C;\n",
              "      box-shadow: 0px 1px 3px 1px rgba(0, 0, 0, 0.15);\n",
              "      filter: drop-shadow(0px 1px 2px rgba(0, 0, 0, 0.3));\n",
              "      fill: #FFFFFF;\n",
              "    }\n",
              "  </style>\n",
              "\n",
              "    <script>\n",
              "      const buttonEl =\n",
              "        document.querySelector('#df-44614f30-dfc5-4c0d-bbb6-a981c76ef0f4 button.colab-df-convert');\n",
              "      buttonEl.style.display =\n",
              "        google.colab.kernel.accessAllowed ? 'block' : 'none';\n",
              "\n",
              "      async function convertToInteractive(key) {\n",
              "        const element = document.querySelector('#df-44614f30-dfc5-4c0d-bbb6-a981c76ef0f4');\n",
              "        const dataTable =\n",
              "          await google.colab.kernel.invokeFunction('convertToInteractive',\n",
              "                                                    [key], {});\n",
              "        if (!dataTable) return;\n",
              "\n",
              "        const docLinkHtml = 'Like what you see? Visit the ' +\n",
              "          '<a target=\"_blank\" href=https://colab.research.google.com/notebooks/data_table.ipynb>data table notebook</a>'\n",
              "          + ' to learn more about interactive tables.';\n",
              "        element.innerHTML = '';\n",
              "        dataTable['output_type'] = 'display_data';\n",
              "        await google.colab.output.renderOutput(dataTable, element);\n",
              "        const docLink = document.createElement('div');\n",
              "        docLink.innerHTML = docLinkHtml;\n",
              "        element.appendChild(docLink);\n",
              "      }\n",
              "    </script>\n",
              "  </div>\n",
              "\n",
              "\n",
              "    <div id=\"df-9f85bc2c-3755-424d-8f52-ab5e954056a0\">\n",
              "      <button class=\"colab-df-quickchart\" onclick=\"quickchart('df-9f85bc2c-3755-424d-8f52-ab5e954056a0')\"\n",
              "                title=\"Suggest charts\"\n",
              "                style=\"display:none;\">\n",
              "\n",
              "<svg xmlns=\"http://www.w3.org/2000/svg\" height=\"24px\"viewBox=\"0 0 24 24\"\n",
              "     width=\"24px\">\n",
              "    <g>\n",
              "        <path d=\"M19 3H5c-1.1 0-2 .9-2 2v14c0 1.1.9 2 2 2h14c1.1 0 2-.9 2-2V5c0-1.1-.9-2-2-2zM9 17H7v-7h2v7zm4 0h-2V7h2v10zm4 0h-2v-4h2v4z\"/>\n",
              "    </g>\n",
              "</svg>\n",
              "      </button>\n",
              "\n",
              "<style>\n",
              "  .colab-df-quickchart {\n",
              "      --bg-color: #E8F0FE;\n",
              "      --fill-color: #1967D2;\n",
              "      --hover-bg-color: #E2EBFA;\n",
              "      --hover-fill-color: #174EA6;\n",
              "      --disabled-fill-color: #AAA;\n",
              "      --disabled-bg-color: #DDD;\n",
              "  }\n",
              "\n",
              "  [theme=dark] .colab-df-quickchart {\n",
              "      --bg-color: #3B4455;\n",
              "      --fill-color: #D2E3FC;\n",
              "      --hover-bg-color: #434B5C;\n",
              "      --hover-fill-color: #FFFFFF;\n",
              "      --disabled-bg-color: #3B4455;\n",
              "      --disabled-fill-color: #666;\n",
              "  }\n",
              "\n",
              "  .colab-df-quickchart {\n",
              "    background-color: var(--bg-color);\n",
              "    border: none;\n",
              "    border-radius: 50%;\n",
              "    cursor: pointer;\n",
              "    display: none;\n",
              "    fill: var(--fill-color);\n",
              "    height: 32px;\n",
              "    padding: 0;\n",
              "    width: 32px;\n",
              "  }\n",
              "\n",
              "  .colab-df-quickchart:hover {\n",
              "    background-color: var(--hover-bg-color);\n",
              "    box-shadow: 0 1px 2px rgba(60, 64, 67, 0.3), 0 1px 3px 1px rgba(60, 64, 67, 0.15);\n",
              "    fill: var(--button-hover-fill-color);\n",
              "  }\n",
              "\n",
              "  .colab-df-quickchart-complete:disabled,\n",
              "  .colab-df-quickchart-complete:disabled:hover {\n",
              "    background-color: var(--disabled-bg-color);\n",
              "    fill: var(--disabled-fill-color);\n",
              "    box-shadow: none;\n",
              "  }\n",
              "\n",
              "  .colab-df-spinner {\n",
              "    border: 2px solid var(--fill-color);\n",
              "    border-color: transparent;\n",
              "    border-bottom-color: var(--fill-color);\n",
              "    animation:\n",
              "      spin 1s steps(1) infinite;\n",
              "  }\n",
              "\n",
              "  @keyframes spin {\n",
              "    0% {\n",
              "      border-color: transparent;\n",
              "      border-bottom-color: var(--fill-color);\n",
              "      border-left-color: var(--fill-color);\n",
              "    }\n",
              "    20% {\n",
              "      border-color: transparent;\n",
              "      border-left-color: var(--fill-color);\n",
              "      border-top-color: var(--fill-color);\n",
              "    }\n",
              "    30% {\n",
              "      border-color: transparent;\n",
              "      border-left-color: var(--fill-color);\n",
              "      border-top-color: var(--fill-color);\n",
              "      border-right-color: var(--fill-color);\n",
              "    }\n",
              "    40% {\n",
              "      border-color: transparent;\n",
              "      border-right-color: var(--fill-color);\n",
              "      border-top-color: var(--fill-color);\n",
              "    }\n",
              "    60% {\n",
              "      border-color: transparent;\n",
              "      border-right-color: var(--fill-color);\n",
              "    }\n",
              "    80% {\n",
              "      border-color: transparent;\n",
              "      border-right-color: var(--fill-color);\n",
              "      border-bottom-color: var(--fill-color);\n",
              "    }\n",
              "    90% {\n",
              "      border-color: transparent;\n",
              "      border-bottom-color: var(--fill-color);\n",
              "    }\n",
              "  }\n",
              "</style>\n",
              "\n",
              "      <script>\n",
              "        async function quickchart(key) {\n",
              "          const quickchartButtonEl =\n",
              "            document.querySelector('#' + key + ' button');\n",
              "          quickchartButtonEl.disabled = true;  // To prevent multiple clicks.\n",
              "          quickchartButtonEl.classList.add('colab-df-spinner');\n",
              "          try {\n",
              "            const charts = await google.colab.kernel.invokeFunction(\n",
              "                'suggestCharts', [key], {});\n",
              "          } catch (error) {\n",
              "            console.error('Error during call to suggestCharts:', error);\n",
              "          }\n",
              "          quickchartButtonEl.classList.remove('colab-df-spinner');\n",
              "          quickchartButtonEl.classList.add('colab-df-quickchart-complete');\n",
              "        }\n",
              "        (() => {\n",
              "          let quickchartButtonEl =\n",
              "            document.querySelector('#df-9f85bc2c-3755-424d-8f52-ab5e954056a0 button');\n",
              "          quickchartButtonEl.style.display =\n",
              "            google.colab.kernel.accessAllowed ? 'block' : 'none';\n",
              "        })();\n",
              "      </script>\n",
              "    </div>\n",
              "\n",
              "    </div>\n",
              "  </div>\n"
            ],
            "application/vnd.google.colaboratory.intrinsic+json": {
              "type": "dataframe",
              "variable_name": "datos",
              "summary": "{\n  \"name\": \"datos\",\n  \"rows\": 889,\n  \"fields\": [\n    {\n      \"column\": \"PassengerId\",\n      \"properties\": {\n        \"dtype\": \"number\",\n        \"std\": 256,\n        \"min\": 1,\n        \"max\": 891,\n        \"num_unique_values\": 889,\n        \"samples\": [\n          282,\n          436,\n          40\n        ],\n        \"semantic_type\": \"\",\n        \"description\": \"\"\n      }\n    },\n    {\n      \"column\": \"Survived\",\n      \"properties\": {\n        \"dtype\": \"number\",\n        \"std\": 0,\n        \"min\": 0,\n        \"max\": 1,\n        \"num_unique_values\": 2,\n        \"samples\": [\n          1,\n          0\n        ],\n        \"semantic_type\": \"\",\n        \"description\": \"\"\n      }\n    },\n    {\n      \"column\": \"Pclass\",\n      \"properties\": {\n        \"dtype\": \"number\",\n        \"std\": 0,\n        \"min\": 1,\n        \"max\": 3,\n        \"num_unique_values\": 3,\n        \"samples\": [\n          3,\n          1\n        ],\n        \"semantic_type\": \"\",\n        \"description\": \"\"\n      }\n    },\n    {\n      \"column\": \"Name\",\n      \"properties\": {\n        \"dtype\": \"string\",\n        \"num_unique_values\": 889,\n        \"samples\": [\n          \"Olsson, Mr. Nils Johan Goransson\",\n          \"Carter, Miss. Lucile Polk\"\n        ],\n        \"semantic_type\": \"\",\n        \"description\": \"\"\n      }\n    },\n    {\n      \"column\": \"Sex\",\n      \"properties\": {\n        \"dtype\": \"category\",\n        \"num_unique_values\": 2,\n        \"samples\": [\n          \"female\",\n          \"male\"\n        ],\n        \"semantic_type\": \"\",\n        \"description\": \"\"\n      }\n    },\n    {\n      \"column\": \"Age\",\n      \"properties\": {\n        \"dtype\": \"number\",\n        \"std\": 12.968366309252332,\n        \"min\": 0.42,\n        \"max\": 80.0,\n        \"num_unique_values\": 89,\n        \"samples\": [\n          59.0,\n          36.5\n        ],\n        \"semantic_type\": \"\",\n        \"description\": \"\"\n      }\n    },\n    {\n      \"column\": \"SibSp\",\n      \"properties\": {\n        \"dtype\": \"number\",\n        \"std\": 1,\n        \"min\": 0,\n        \"max\": 8,\n        \"num_unique_values\": 7,\n        \"samples\": [\n          1,\n          0\n        ],\n        \"semantic_type\": \"\",\n        \"description\": \"\"\n      }\n    },\n    {\n      \"column\": \"Parch\",\n      \"properties\": {\n        \"dtype\": \"number\",\n        \"std\": 0,\n        \"min\": 0,\n        \"max\": 6,\n        \"num_unique_values\": 7,\n        \"samples\": [\n          0,\n          1\n        ],\n        \"semantic_type\": \"\",\n        \"description\": \"\"\n      }\n    },\n    {\n      \"column\": \"Ticket\",\n      \"properties\": {\n        \"dtype\": \"string\",\n        \"num_unique_values\": 680,\n        \"samples\": [\n          \"11774\",\n          \"29105\"\n        ],\n        \"semantic_type\": \"\",\n        \"description\": \"\"\n      }\n    },\n    {\n      \"column\": \"Fare\",\n      \"properties\": {\n        \"dtype\": \"number\",\n        \"std\": 49.69750431670801,\n        \"min\": 0.0,\n        \"max\": 512.3292,\n        \"num_unique_values\": 247,\n        \"samples\": [\n          11.2417,\n          51.8625\n        ],\n        \"semantic_type\": \"\",\n        \"description\": \"\"\n      }\n    },\n    {\n      \"column\": \"Embarked\",\n      \"properties\": {\n        \"dtype\": \"category\",\n        \"num_unique_values\": 3,\n        \"samples\": [\n          \"S\",\n          \"C\"\n        ],\n        \"semantic_type\": \"\",\n        \"description\": \"\"\n      }\n    }\n  ]\n}"
            }
          },
          "metadata": {},
          "execution_count": 410
        }
      ]
    },
    {
      "cell_type": "markdown",
      "source": [
        "La función count, cuenta los registros que no poseen ninguna dato nulo, None, Nan.\n",
        "\n",
        "En este caso se eliminar los dos pasajeros que no poseían punto de embarque."
      ],
      "metadata": {
        "id": "Mm1c7n3E8SNB"
      }
    },
    {
      "cell_type": "code",
      "source": [
        "print(datos.count())"
      ],
      "metadata": {
        "colab": {
          "base_uri": "https://localhost:8080/"
        },
        "id": "cJSbX4o38Ng9",
        "outputId": "9165cf23-ae1d-4225-8a3d-99c8344a354e"
      },
      "execution_count": 411,
      "outputs": [
        {
          "output_type": "stream",
          "name": "stdout",
          "text": [
            "PassengerId    889\n",
            "Survived       889\n",
            "Pclass         889\n",
            "Name           889\n",
            "Sex            889\n",
            "Age            889\n",
            "SibSp          889\n",
            "Parch          889\n",
            "Ticket         889\n",
            "Fare           889\n",
            "Embarked       889\n",
            "dtype: int64\n"
          ]
        }
      ]
    },
    {
      "cell_type": "markdown",
      "source": [
        "# Prepararación de datos"
      ],
      "metadata": {
        "id": "7u-_jNTg-FA9"
      }
    },
    {
      "cell_type": "markdown",
      "source": [
        "## Dropear variables no relevantes para el estudio o que no serán utilizadas por el/los modelos"
      ],
      "metadata": {
        "id": "aGmSrDLonwy4"
      }
    },
    {
      "cell_type": "markdown",
      "source": [
        "Variables como id y nombre de pasajero no permitirían determinar si el pasajero murió o si sobrevivió a menos que se pudiera relacionar el nombre del mismo con variables externas a este dataset y que pudieran hacerlo relevante para predecir si cierta persona con aquel [nombre] murió o no.\n",
        "\n",
        "En este caso se descartaron ambas columnas junto a la columna ticket, la cual indica cuanto pago para subir al barco, esta no afecta mucho sabiendo que ya se posee la clase/nivel (1,2,3) al que pertenecia el pasajero."
      ],
      "metadata": {
        "id": "D-HpxMDsoUQk"
      }
    },
    {
      "cell_type": "code",
      "source": [
        "datos = datos.drop([\"Name\", \"PassengerId\", \"Ticket\"], axis=1)"
      ],
      "metadata": {
        "id": "YYAWbUd7SpG2"
      },
      "execution_count": 412,
      "outputs": []
    },
    {
      "cell_type": "markdown",
      "source": [
        "## Codificar variables\n",
        "\n"
      ],
      "metadata": {
        "id": "oQuaSL-hSG4K"
      }
    },
    {
      "cell_type": "markdown",
      "source": [
        "### Codificar la variable categórica nominal 'Sex' a número binario"
      ],
      "metadata": {
        "id": "RA_bnmLQn414"
      }
    },
    {
      "cell_type": "markdown",
      "source": [
        "convirtiendo las categorías 'masculino' y 'femenino' en representación numérica (0 o 1), eliminando la primera categoría para evitar la multicolinealidad.\n",
        "\n",
        "Esto debido a que dificulta determinar el efecto individual de cada variable y por que el hecho de dividir la columna sex en dos ya no hace que sea necesaria."
      ],
      "metadata": {
        "id": "kpxdDCrJ1rL3"
      }
    },
    {
      "cell_type": "code",
      "source": [
        "dummies_sex = pd.get_dummies(datos[\"Sex\"], drop_first=True)"
      ],
      "metadata": {
        "id": "NOuxBA3zSw18"
      },
      "execution_count": 413,
      "outputs": []
    },
    {
      "cell_type": "markdown",
      "source": [
        "get_dummies() se utilizó para convertir la variable de sexo (female,male) para convertir los valores de tipo categorico a numero binarios de 0 y 1."
      ],
      "metadata": {
        "id": "puPcHHU6fSPM"
      }
    },
    {
      "cell_type": "code",
      "source": [
        "datos = datos.join(dummies_sex)\n",
        "datos = datos.drop([\"Sex\"], axis=1)"
      ],
      "metadata": {
        "id": "IlQ9hiG0TQSl"
      },
      "execution_count": 414,
      "outputs": []
    },
    {
      "cell_type": "markdown",
      "source": [
        "Se dropeo la columna original y se utilizan las columnas nuevas entregadas por get_dummies."
      ],
      "metadata": {
        "id": "-CEXvS75oLjm"
      }
    },
    {
      "cell_type": "markdown",
      "source": [
        "#### Observar supervivencia por punto de embarque y sexo."
      ],
      "metadata": {
        "id": "cp2jYzaXnGQK"
      }
    },
    {
      "cell_type": "code",
      "source": [
        "sb.countplot(x=\"Survived\", data=datos, hue=\"Embarked\")"
      ],
      "metadata": {
        "id": "NZyUEv5aTbxZ",
        "colab": {
          "base_uri": "https://localhost:8080/",
          "height": 467
        },
        "outputId": "af45e806-a6df-4a00-e6fb-6d45883993db"
      },
      "execution_count": 415,
      "outputs": [
        {
          "output_type": "execute_result",
          "data": {
            "text/plain": [
              "<Axes: xlabel='Survived', ylabel='count'>"
            ]
          },
          "metadata": {},
          "execution_count": 415
        },
        {
          "output_type": "display_data",
          "data": {
            "text/plain": [
              "<Figure size 640x480 with 1 Axes>"
            ],
            "image/png": "[encoded data removed]"
          },
          "metadata": {}
        }
      ]
    },
    {
      "cell_type": "markdown",
      "source": [
        "### Codificar la variable categórica nominal 'Embarked' a número binario"
      ],
      "metadata": {
        "id": "K2Ga0hrW8vl4"
      }
    },
    {
      "cell_type": "code",
      "source": [
        "dummies_embarked = pd.get_dummies(datos[\"Embarked\"], drop_first=True)"
      ],
      "metadata": {
        "id": "D4eNMVS6TnWl"
      },
      "execution_count": 416,
      "outputs": []
    },
    {
      "cell_type": "markdown",
      "source": [
        "Los valores en punto de embarque se cambiaron con get_dummies() a columnas con valores binarios que representan el si subieron en ese ciudad o no."
      ],
      "metadata": {
        "id": "ZDLjQBgwyhhT"
      }
    },
    {
      "cell_type": "code",
      "source": [
        "datos = datos.join(dummies_embarked)\n",
        "datos = datos.drop([\"Embarked\"], axis=1)"
      ],
      "metadata": {
        "id": "rBKZ3bLITsJ1"
      },
      "execution_count": 417,
      "outputs": []
    },
    {
      "cell_type": "markdown",
      "source": [
        "### Ver nivel de correlación de las variables actuales en el dataset"
      ],
      "metadata": {
        "id": "4NIcqSvX8yoN"
      }
    },
    {
      "cell_type": "code",
      "source": [
        "sb.heatmap(datos.corr(), annot=True, cmap=\"YlGnBu\")"
      ],
      "metadata": {
        "id": "cd169FI5T1ox",
        "colab": {
          "base_uri": "https://localhost:8080/",
          "height": 500
        },
        "outputId": "f7c882e5-9b06-465a-9e2a-62e11bea8bc8"
      },
      "execution_count": 418,
      "outputs": [
        {
          "output_type": "execute_result",
          "data": {
            "text/plain": [
              "<Axes: >"
            ]
          },
          "metadata": {},
          "execution_count": 418
        },
        {
          "output_type": "display_data",
          "data": {
            "text/plain": [
              "<Figure size 640x480 with 2 Axes>"
            ],
            "image/png": "[encoded data removed]"
          },
          "metadata": {}
        }
      ]
    },
    {
      "cell_type": "markdown",
      "source": [
        "El mapa indica que la corelación más grande es la de los miembros de la familia del pasajero con (número de padres/niños a bordo con hermanos y esposos/as).\n",
        "\n",
        "\n",
        "También el siguiente coeficiente correlación más grande es el de Parch/SibSp con tarifa o boleto, lo cual tiene cierto sentido sabiendo que mientras más miembros o gente poseía la familia estos pagaban un precio más alto por todos ellos.\n",
        "\n",
        "Los demás indices con menor valor son:\n",
        "\n",
        "- Con la clase del pasajero y el punto de embarque de QueensTown este es de un 0.22 podría representar que quizás una clase más baja/más alta se subio especificamente en QueensTown.\n",
        "\n",
        "- También esta el indice de 0.26 entre tarifa/boleto y supervivencia, que quizás indica que el hecho de poseer un boleto si afecto la posibilidad de que estos pasajeros pudieran sobrevivir.\n",
        "\n",
        "\n",
        "---\n",
        "\n",
        "\n",
        "El color map es de Amarillo,Verde y Azul.\n",
        "El coeficiente de correlación que utiliza heat-map en este caso como matriz de correlación, es el método .corr() de Pandas que calcula esto, utiliza el coeficiente de relación de Pearson."
      ],
      "metadata": {
        "id": "RdhTiDE3uxOT"
      }
    },
    {
      "cell_type": "markdown",
      "source": [
        "### Gráfico de pasajeros y nivel/clase"
      ],
      "metadata": {
        "id": "ZByqFEt4ji7q"
      }
    },
    {
      "cell_type": "markdown",
      "source": [
        "Se muestra este gráfico para visualizar el número de supervivientes y no-supervivientes, segmentandolos por la clase del pasajero.\n"
      ],
      "metadata": {
        "id": "fmziMazijqdm"
      }
    },
    {
      "cell_type": "code",
      "source": [
        "sb.countplot(x=\"Survived\", data=datos, hue=\"Pclass\")"
      ],
      "metadata": {
        "id": "26BzIdo5UL_-",
        "colab": {
          "base_uri": "https://localhost:8080/",
          "height": 467
        },
        "outputId": "f7bd1500-7679-47ed-8773-8c77d916e49a"
      },
      "execution_count": 419,
      "outputs": [
        {
          "output_type": "execute_result",
          "data": {
            "text/plain": [
              "<Axes: xlabel='Survived', ylabel='count'>"
            ]
          },
          "metadata": {},
          "execution_count": 419
        },
        {
          "output_type": "display_data",
          "data": {
            "text/plain": [
              "<Figure size 640x480 with 1 Axes>"
            ],
            "image/png": "[encoded data removed]"
          },
          "metadata": {}
        }
      ]
    },
    {
      "cell_type": "markdown",
      "source": [
        "Se observa que la mayoría de pasajeros de clase baja (nivel 3) murió o no sobrevivió al titanic. También se demuestra que la gente que sobrevivió de cada clase fue bastante similar pero si adjuntamos la cantidad de gente no sobrevivió, el barco poseía a bordo una mayor cantidad de gente en la clase más baja.\n",
        "\n"
      ],
      "metadata": {
        "id": "mkwqvb-0wya3"
      }
    },
    {
      "cell_type": "markdown",
      "source": [
        "## Definir variables objetivo y explicativas."
      ],
      "metadata": {
        "id": "D2z_hAL36cpo"
      }
    },
    {
      "cell_type": "markdown",
      "source": [
        "Se Definen las variables objetivo y explicativas.\n",
        "Y se separa el DataFrame en (features) y la variable objetivo ('Survived').\n",
        "\n",
        "Osea se hará la predicción sobre si sobrevivió el pasajero."
      ],
      "metadata": {
        "id": "W6AXmimkhfxq"
      }
    },
    {
      "cell_type": "code",
      "source": [
        "variable_explicativa = datos.drop([\"Survived\"], axis=1)\n",
        "variable_objetivo = datos[\"Survived\"]"
      ],
      "metadata": {
        "id": "y4dtnE04Ud3Q"
      },
      "execution_count": 420,
      "outputs": []
    },
    {
      "cell_type": "markdown",
      "source": [
        "## Dividir el dataset con un training/test size de 100%, 80/20 y 60/40 (Observar)"
      ],
      "metadata": {
        "id": "WuWZ68nTh7DO"
      }
    },
    {
      "cell_type": "code",
      "source": [
        "from sklearn.model_selection import train_test_split\n",
        "\n",
        "## Conjunto de prueba 100%\n",
        "X_ent, X_pru, y_ent, y_pru = train_test_split(variable_explicativa, variable_objetivo)\n",
        "\n",
        "## Conjunto de prueba 90/10\n",
        "X_ent_10, X_pru_10, y_ent_10, y_pru_10 = train_test_split(variable_explicativa, variable_objetivo, test_size=.1)\n",
        "\n",
        "## Conjunto de prueba 60/40.\n",
        "X_ent_40, X_pru_40, y_ent_40, y_pru_40 = train_test_split(variable_explicativa, variable_objetivo, test_size=.4)"
      ],
      "metadata": {
        "id": "mnqtdoa8Uim8"
      },
      "execution_count": 421,
      "outputs": []
    },
    {
      "cell_type": "markdown",
      "source": [
        "# Modelado y entrenamiento"
      ],
      "metadata": {
        "id": "dRUBTLFTSd53"
      }
    },
    {
      "cell_type": "markdown",
      "metadata": {
        "id": "e84fbe46"
      },
      "source": [
        "### Explicación de las Métricas\n",
        "\n",
        "Explicación de las métricas utilizadas para evaluar los modelos:\n",
        "\n",
        "*   **Accuracy (Exactitud):** Qué porcentaje de todas las predicciones fueron correctas.\n",
        "*   **Precision (Precisión):** La Precisión te dice qué porcentaje de esas personas que el modelo dijo que sobrevivieron, realmente sobrevivieron.\n",
        "\n",
        "*   **Recall (Sensibilidad o Exhaustividad):** El Recall te dice qué porcentaje de esas personas que realmente sobrevivieron, el modelo fue capaz de identificar correctamente\n",
        "*   **F1-Score (Puntuación F1):** Un balance entre qué tan preciso fue el modelo y cuántos casos reales encontró."
      ]
    },
    {
      "cell_type": "markdown",
      "source": [
        "## Importar modelos"
      ],
      "metadata": {
        "id": "Epi_nYeY5cNx"
      }
    },
    {
      "cell_type": "markdown",
      "source": [
        "Se importan los modelos de arbol de decisión, RandomForest, GaussianNB (Naive Bayes), SVC (Support Vector Machines) y el de redes neuronales que es el MLPClassifier.  "
      ],
      "metadata": {
        "id": "LcCNMqqX5en6"
      }
    },
    {
      "cell_type": "code",
      "source": [
        "from sklearn.tree import DecisionTreeClassifier\n",
        "from sklearn.ensemble import RandomForestClassifier\n",
        "from sklearn.naive_bayes import GaussianNB\n",
        "from sklearn.neural_network import MLPClassifier\n",
        "from sklearn.svm import SVC\n",
        "from sklearn.metrics import accuracy_score, classification_report, confusion_matrix"
      ],
      "metadata": {
        "id": "ey5tf1oJ50k9"
      },
      "execution_count": 422,
      "outputs": []
    },
    {
      "cell_type": "markdown",
      "source": [
        "## Parametros de a utilizar en los modelos\n",
        "\n",
        "> Nota : Estos son los parametros que se utilizaron para configurar los modelos y compararlos, esto se puede verificar en las siguientes secciones."
      ],
      "metadata": {
        "id": "a52TemY8bD1k"
      }
    },
    {
      "cell_type": "code",
      "source": [
        "test_sizes = [0.1, 0.4]\n",
        "accuracy_scores_dict = {}\n",
        "tree_depth_level= 3\n",
        "NN_iter_epoch=1000 # debería ser más grande si el data set es más pequeño"
      ],
      "metadata": {
        "id": "2Y7xTNZdbHxB"
      },
      "execution_count": 423,
      "outputs": []
    },
    {
      "cell_type": "markdown",
      "source": [
        "## Arbol decisión"
      ],
      "metadata": {
        "id": "PWFM2t9pmhag"
      }
    },
    {
      "cell_type": "markdown",
      "source": [
        "- X_ent: Las características del conjunto de entrenamiento.\n",
        "- X_pru: Las características del conjunto de prueba.\n",
        "- y_ent: La variable objetivo del conjunto de entrenamiento.\n",
        "- y_pru: La variable objetivo del conjunto de prueba."
      ],
      "metadata": {
        "id": "LnhTF5D514fU"
      }
    },
    {
      "cell_type": "markdown",
      "source": [
        "### Verificando nivel de precisión de arbol de decisión (nivel de profundidad del 1 al 14)"
      ],
      "metadata": {
        "id": "hjHK7hW0HB3s"
      }
    },
    {
      "cell_type": "markdown",
      "source": [
        "Preparando el modelo para observar que nivel de precisión hay entre los niveles de 1 a 14 de profundidad."
      ],
      "metadata": {
        "id": "d-xrvuLP9_Sp"
      }
    },
    {
      "cell_type": "code",
      "source": [
        "from sklearn.tree import DecisionTreeClassifier\n",
        "resultados = []\n",
        "for i in range(1,15):\n",
        "  modelo = DecisionTreeClassifier(max_depth=i)\n",
        "  modelo.fit(X_ent, y_ent)\n",
        "  predicciones = modelo.predict(X_pru)\n",
        "  exactitud = accuracy_score(y_pru, predicciones)\n",
        "  print(f\"Resultado para {i}: {exactitud}\")\n",
        "  resultados.append(exactitud)"
      ],
      "metadata": {
        "id": "SiUncZ9NQmIg",
        "colab": {
          "base_uri": "https://localhost:8080/"
        },
        "outputId": "addb389f-efb9-4663-e61e-7ef97e00a8df"
      },
      "execution_count": 424,
      "outputs": [
        {
          "output_type": "stream",
          "name": "stdout",
          "text": [
            "Resultado para 1: 0.7668161434977578\n",
            "Resultado para 2: 0.7668161434977578\n",
            "Resultado para 3: 0.8026905829596412\n",
            "Resultado para 4: 0.8071748878923767\n",
            "Resultado para 5: 0.7982062780269058\n",
            "Resultado para 6: 0.8116591928251121\n",
            "Resultado para 7: 0.7982062780269058\n",
            "Resultado para 8: 0.8116591928251121\n",
            "Resultado para 9: 0.7892376681614349\n",
            "Resultado para 10: 0.7892376681614349\n",
            "Resultado para 11: 0.7713004484304933\n",
            "Resultado para 12: 0.7982062780269058\n",
            "Resultado para 13: 0.7713004484304933\n",
            "Resultado para 14: 0.7623318385650224\n"
          ]
        }
      ]
    },
    {
      "cell_type": "markdown",
      "source": [
        "### Gráfico de comparación de niveles de accuracy en niveles depth en arbol de decisión."
      ],
      "metadata": {
        "id": "trOWgrmK3quf"
      }
    },
    {
      "cell_type": "code",
      "source": [
        "sb.lineplot(data=resultados)"
      ],
      "metadata": {
        "id": "aD60FdX3QmAB",
        "colab": {
          "base_uri": "https://localhost:8080/",
          "height": 448
        },
        "outputId": "f2066a63-2758-489d-b869-8d4d869c6597"
      },
      "execution_count": 425,
      "outputs": [
        {
          "output_type": "execute_result",
          "data": {
            "text/plain": [
              "<Axes: >"
            ]
          },
          "metadata": {},
          "execution_count": 425
        },
        {
          "output_type": "display_data",
          "data": {
            "text/plain": [
              "<Figure size 640x480 with 1 Axes>"
            ],
            "image/png": "[encoded data removed]"
          },
          "metadata": {}
        }
      ]
    },
    {
      "cell_type": "markdown",
      "source": [
        "La exactitud más baja se consigye utilizando de 1 a 7 niveles, mientras que la exactitud en niveles más altos lográ mejor exactitud pero es más costosa al tener más niveles"
      ],
      "metadata": {
        "id": "H1cDKUnF34fD"
      }
    },
    {
      "cell_type": "markdown",
      "source": [
        "### Generar predicciones con los distintos niveles de training/test de Arbol de decisión"
      ],
      "metadata": {
        "id": "UxsVo4bYnwEs"
      }
    },
    {
      "cell_type": "markdown",
      "source": [
        "Probamos primero el modelo con el 100% de los datos."
      ],
      "metadata": {
        "id": "29ue6ubzBE3Y"
      }
    },
    {
      "cell_type": "code",
      "source": [
        "modelo = DecisionTreeClassifier(max_depth=tree_depth_level)\n",
        "modelo.fit(variable_explicativa, variable_objetivo)\n",
        "\n",
        "# Make predictions on the full dataset\n",
        "predicciones = modelo.predict(variable_explicativa)\n",
        "\n",
        "# Calculate accuracy on the full dataset\n",
        "exactitud = accuracy_score(variable_objetivo, predicciones)\n",
        "\n",
        "# Store accuracy in the dictionary\n",
        "accuracy_scores_dict[f'Decision Tree ({tree_depth_level}) complete'] = exactitud"
      ],
      "metadata": {
        "id": "YxXmYC06Ql41"
      },
      "execution_count": 426,
      "outputs": []
    },
    {
      "cell_type": "markdown",
      "source": [
        "Segundo, el modelo de 90/10."
      ],
      "metadata": {
        "id": "X89WhRxzBJlP"
      }
    },
    {
      "cell_type": "code",
      "source": [
        "modelo_2 = DecisionTreeClassifier(max_depth=tree_depth_level)\n",
        "modelo_2.fit(X_ent_10, y_ent_10)\n",
        "predicciones_2 = modelo_2.predict(X_pru_10)\n",
        "exactitud_2 = accuracy_score(y_pru_10, predicciones_2)\n",
        "\n",
        "# Store accuracy in the dictionary\n",
        "accuracy_scores_dict[f'Decision Tree ({tree_depth_level})_0.1'] = exactitud_2"
      ],
      "metadata": {
        "id": "N9ifE7daBM6O"
      },
      "execution_count": 427,
      "outputs": []
    },
    {
      "cell_type": "markdown",
      "source": [
        "Tercero, el modelo 60/40."
      ],
      "metadata": {
        "id": "5K2rU-jDBQ7Z"
      }
    },
    {
      "cell_type": "code",
      "source": [
        "modelo_3 = DecisionTreeClassifier(max_depth=tree_depth_level)\n",
        "modelo_3.fit(X_ent_40, y_ent_40)\n",
        "predicciones_3 = modelo_3.predict(X_pru_40)\n",
        "exactitud_3 = accuracy_score(y_pru_40, predicciones_3)\n",
        "\n",
        "# Store accuracy in the dictionary\n",
        "accuracy_scores_dict[f'Decision Tree ({tree_depth_level})_0.4'] = exactitud_3"
      ],
      "metadata": {
        "id": "E-awNgibBXTv"
      },
      "execution_count": 428,
      "outputs": []
    },
    {
      "cell_type": "markdown",
      "source": [
        "### Mostrar comparación entre entrenar el arbol de decisión con el set completo, 90/10 y 60/40."
      ],
      "metadata": {
        "id": "o4f1YCaMDVq3"
      }
    },
    {
      "cell_type": "code",
      "source": [
        "from sklearn.metrics import classification_report\n",
        "\n",
        "# Report for 100% data (using variables from cell 2e445328)\n",
        "print(\"--- Decision Tree Classification Report (100% Data) ---\")\n",
        "# Ensure variables from cell 2e445328 are accessible\n",
        "try:\n",
        "    print(classification_report(variable_objetivo, modelo.predict(variable_explicativa)))\n",
        "except NameError:\n",
        "    print(\"Variables for 100% data not found. Please run the cell with full data training.\")\n",
        "print(\"-\" * 30)\n",
        "\n",
        "# Report for 60/40 split (using variables from cell E-awNgibBXTv)\n",
        "print(\"--- Decision Tree Classification Report (60/40 Split) ---\")\n",
        "# Ensure variables from cell E-awNgibBXTv are accessible\n",
        "try:\n",
        "    print(classification_report(y_pru_40, modelo_2.predict(X_pru_40)))\n",
        "except NameError:\n",
        "     print(\"Variables for 60/40 split not found. Please run the cell with 60/40 split training.\")\n",
        "print(\"-\" * 30)\n",
        "\n",
        "# Report for 90/10 split (using variables from cell N9ifE7daBM6O)\n",
        "print(\"--- Decision Tree Classification Report (90/10 Split) ---\")\n",
        "# Ensure variables from cell N9ifE7daBM6O are accessible\n",
        "try:\n",
        "    print(classification_report(y_pru_10, modelo_3.predict(X_pru_10)))\n",
        "except NameError:\n",
        "     print(\"Variables for 90/10 split not found. Please run the cell with 90/10 split training.\")\n",
        "print(\"-\" * 30)\n",
        "\n",
        "# Keep the line to print columns if desired\n",
        "X_ent.columns"
      ],
      "metadata": {
        "colab": {
          "base_uri": "https://localhost:8080/"
        },
        "id": "hf9L_7S0sVVE",
        "outputId": "954ea413-00b4-4b0e-a63d-ba30859de0b9"
      },
      "execution_count": 429,
      "outputs": [
        {
          "output_type": "stream",
          "name": "stdout",
          "text": [
            "--- Decision Tree Classification Report (100% Data) ---\n",
            "              precision    recall  f1-score   support\n",
            "\n",
            "           0       0.83      0.90      0.86       549\n",
            "           1       0.81      0.71      0.76       340\n",
            "\n",
            "    accuracy                           0.83       889\n",
            "   macro avg       0.82      0.80      0.81       889\n",
            "weighted avg       0.83      0.83      0.82       889\n",
            "\n",
            "------------------------------\n",
            "--- Decision Tree Classification Report (60/40 Split) ---\n",
            "              precision    recall  f1-score   support\n",
            "\n",
            "           0       0.81      0.90      0.85       214\n",
            "           1       0.82      0.68      0.74       142\n",
            "\n",
            "    accuracy                           0.81       356\n",
            "   macro avg       0.81      0.79      0.80       356\n",
            "weighted avg       0.81      0.81      0.81       356\n",
            "\n",
            "------------------------------\n",
            "--- Decision Tree Classification Report (90/10 Split) ---\n",
            "              precision    recall  f1-score   support\n",
            "\n",
            "           0       0.84      0.89      0.86        57\n",
            "           1       0.79      0.69      0.73        32\n",
            "\n",
            "    accuracy                           0.82        89\n",
            "   macro avg       0.81      0.79      0.80        89\n",
            "weighted avg       0.82      0.82      0.82        89\n",
            "\n",
            "------------------------------\n"
          ]
        },
        {
          "output_type": "execute_result",
          "data": {
            "text/plain": [
              "Index(['Pclass', 'Age', 'SibSp', 'Parch', 'Fare', 'male', 'Q', 'S'], dtype='object')"
            ]
          },
          "metadata": {},
          "execution_count": 429
        }
      ]
    },
    {
      "cell_type": "markdown",
      "source": [
        "Si se observa los resultados, entonces se puede decir que la precisión más grande al momento de determinar si la persona sobrevivió o no, se consigue utilizando el modelo con el set completo, los 60/40, 90/10 estas segmentaciones poseen una menor precisión si la persona no sobrevivió como también un menor exactitud o accuracy comparada a utilizar todo el segmento de los datos."
      ],
      "metadata": {
        "id": "A8sNBMe9C4gP"
      }
    },
    {
      "cell_type": "markdown",
      "source": [
        "Para mencionar cual es mejor, se podría maximizar la precisión al predecir la supervivencia (Clase 1) en datos no vistos, el set completo parece dar el mejor resultado para el Árbol de Decisión (precisión de 0.81). Sin embargo, el accuracy general es similar entre 100% y 60/40, y un poco menor en 90/10.\n",
        "\n",
        "\n",
        "--------------------------------------------------------------------------------\n",
        "\n",
        "\n",
        "La decisión de cual modelo es mejor se hará al comparar estos resultados con el resto de modelos."
      ],
      "metadata": {
        "id": "Bn1wGWcxE5_2"
      }
    },
    {
      "cell_type": "markdown",
      "source": [
        "### Graficar arbol con nivel de profundidad más alto"
      ],
      "metadata": {
        "id": "zAR0uxqXqVIs"
      }
    },
    {
      "cell_type": "code",
      "source": [
        "print(f'El resultado de exactitud de la profundidad depth={tree_depth_level} fue: \\n')\n",
        "print(f\"\"\"Resultado para nivel {tree_depth_level} en set completo: {accuracy_scores_dict[f\"Decision Tree ({tree_depth_level}) complete\"]} \\n\n",
        "Lo cual es un resultado bastante alto, y permite llegar a una predicción más exacta sin la necesidad de más niveles.\"\"\")"
      ],
      "metadata": {
        "colab": {
          "base_uri": "https://localhost:8080/"
        },
        "id": "_7iWs0HbeJKn",
        "outputId": "f83a26ee-2359-40be-c8c4-cdb39523c721"
      },
      "execution_count": 430,
      "outputs": [
        {
          "output_type": "stream",
          "name": "stdout",
          "text": [
            "El resultado de exactitud de la profundidad depth=3 fue: \n",
            "\n",
            "Resultado para nivel 3 en set completo: 0.8267716535433071 \n",
            "\n",
            "Lo cual es un resultado bastante alto, y permite llegar a una predicción más exacta sin la necesidad de más niveles.\n"
          ]
        }
      ]
    },
    {
      "cell_type": "code",
      "source": [
        "from sklearn.tree import plot_tree\n",
        "import matplotlib.pyplot as plt\n",
        "\n",
        "plt.figure(figsize=(14,8))\n",
        "plot_tree(decision_tree=modelo,feature_names=variable_explicativa.columns, filled=True);"
      ],
      "metadata": {
        "id": "r2S9yPrmQlwy",
        "colab": {
          "base_uri": "https://localhost:8080/",
          "height": 625
        },
        "outputId": "89d59ccb-46da-4820-8ec8-e1c37d5020dc"
      },
      "execution_count": 431,
      "outputs": [
        {
          "output_type": "display_data",
          "data": {
            "text/plain": [
              "<Figure size 1400x800 with 1 Axes>"
            ],
            "image/png": "[encoded data removed]"
          },
          "metadata": {}
        }
      ]
    },
    {
      "cell_type": "markdown",
      "source": [
        "### Matriz de confusión para medir el nivel de precisión que posee el modelo."
      ],
      "metadata": {
        "id": "rDRU3Bd7qmb0"
      }
    },
    {
      "cell_type": "code",
      "source": [
        "pd.DataFrame(confusion_matrix(variable_objetivo, predicciones), columns=[\"Pred: No\", \"Pred: Si\"], index=[\"Real: No\", \"Real: Si\"])"
      ],
      "metadata": {
        "id": "YoK_wZfBVloH",
        "colab": {
          "base_uri": "https://localhost:8080/",
          "height": 112
        },
        "outputId": "ce997974-97eb-46d0-f0b1-4d6f89bcb555"
      },
      "execution_count": 432,
      "outputs": [
        {
          "output_type": "execute_result",
          "data": {
            "text/plain": [
              "          Pred: No  Pred: Si\n",
              "Real: No       493        56\n",
              "Real: Si        98       242"
            ],
            "text/html": [
              "\n",
              "  <div id=\"df-1b5037cd-4b7a-4892-83fe-4253f5ffdbee\" class=\"colab-df-container\">\n",
              "    <div>\n",
              "<style scoped>\n",
              "    .dataframe tbody tr th:only-of-type {\n",
              "        vertical-align: middle;\n",
              "    }\n",
              "\n",
              "    .dataframe tbody tr th {\n",
              "        vertical-align: top;\n",
              "    }\n",
              "\n",
              "    .dataframe thead th {\n",
              "        text-align: right;\n",
              "    }\n",
              "</style>\n",
              "<table border=\"1\" class=\"dataframe\">\n",
              "  <thead>\n",
              "    <tr style=\"text-align: right;\">\n",
              "      <th></th>\n",
              "      <th>Pred: No</th>\n",
              "      <th>Pred: Si</th>\n",
              "    </tr>\n",
              "  </thead>\n",
              "  <tbody>\n",
              "    <tr>\n",
              "      <th>Real: No</th>\n",
              "      <td>493</td>\n",
              "      <td>56</td>\n",
              "    </tr>\n",
              "    <tr>\n",
              "      <th>Real: Si</th>\n",
              "      <td>98</td>\n",
              "      <td>242</td>\n",
              "    </tr>\n",
              "  </tbody>\n",
              "</table>\n",
              "</div>\n",
              "    <div class=\"colab-df-buttons\">\n",
              "\n",
              "  <div class=\"colab-df-container\">\n",
              "    <button class=\"colab-df-convert\" onclick=\"convertToInteractive('df-1b5037cd-4b7a-4892-83fe-4253f5ffdbee')\"\n",
              "            title=\"Convert this dataframe to an interactive table.\"\n",
              "            style=\"display:none;\">\n",
              "\n",
              "  <svg xmlns=\"http://www.w3.org/2000/svg\" height=\"24px\" viewBox=\"0 -960 960 960\">\n",
              "    <path d=\"M120-120v-720h720v720H120Zm60-500h600v-160H180v160Zm220 220h160v-160H400v160Zm0 220h160v-160H400v160ZM180-400h160v-160H180v160Zm440 0h160v-160H620v160ZM180-180h160v-160H180v160Zm440 0h160v-160H620v160Z\"/>\n",
              "  </svg>\n",
              "    </button>\n",
              "\n",
              "  <style>\n",
              "    .colab-df-container {\n",
              "      display:flex;\n",
              "      gap: 12px;\n",
              "    }\n",
              "\n",
              "    .colab-df-convert {\n",
              "      background-color: #E8F0FE;\n",
              "      border: none;\n",
              "      border-radius: 50%;\n",
              "      cursor: pointer;\n",
              "      display: none;\n",
              "      fill: #1967D2;\n",
              "      height: 32px;\n",
              "      padding: 0 0 0 0;\n",
              "      width: 32px;\n",
              "    }\n",
              "\n",
              "    .colab-df-convert:hover {\n",
              "      background-color: #E2EBFA;\n",
              "      box-shadow: 0px 1px 2px rgba(60, 64, 67, 0.3), 0px 1px 3px 1px rgba(60, 64, 67, 0.15);\n",
              "      fill: #174EA6;\n",
              "    }\n",
              "\n",
              "    .colab-df-buttons div {\n",
              "      margin-bottom: 4px;\n",
              "    }\n",
              "\n",
              "    [theme=dark] .colab-df-convert {\n",
              "      background-color: #3B4455;\n",
              "      fill: #D2E3FC;\n",
              "    }\n",
              "\n",
              "    [theme=dark] .colab-df-convert:hover {\n",
              "      background-color: #434B5C;\n",
              "      box-shadow: 0px 1px 3px 1px rgba(0, 0, 0, 0.15);\n",
              "      filter: drop-shadow(0px 1px 2px rgba(0, 0, 0, 0.3));\n",
              "      fill: #FFFFFF;\n",
              "    }\n",
              "  </style>\n",
              "\n",
              "    <script>\n",
              "      const buttonEl =\n",
              "        document.querySelector('#df-1b5037cd-4b7a-4892-83fe-4253f5ffdbee button.colab-df-convert');\n",
              "      buttonEl.style.display =\n",
              "        google.colab.kernel.accessAllowed ? 'block' : 'none';\n",
              "\n",
              "      async function convertToInteractive(key) {\n",
              "        const element = document.querySelector('#df-1b5037cd-4b7a-4892-83fe-4253f5ffdbee');\n",
              "        const dataTable =\n",
              "          await google.colab.kernel.invokeFunction('convertToInteractive',\n",
              "                                                    [key], {});\n",
              "        if (!dataTable) return;\n",
              "\n",
              "        const docLinkHtml = 'Like what you see? Visit the ' +\n",
              "          '<a target=\"_blank\" href=https://colab.research.google.com/notebooks/data_table.ipynb>data table notebook</a>'\n",
              "          + ' to learn more about interactive tables.';\n",
              "        element.innerHTML = '';\n",
              "        dataTable['output_type'] = 'display_data';\n",
              "        await google.colab.output.renderOutput(dataTable, element);\n",
              "        const docLink = document.createElement('div');\n",
              "        docLink.innerHTML = docLinkHtml;\n",
              "        element.appendChild(docLink);\n",
              "      }\n",
              "    </script>\n",
              "  </div>\n",
              "\n",
              "\n",
              "    <div id=\"df-cb1263cc-acab-479b-b758-3a24912250cf\">\n",
              "      <button class=\"colab-df-quickchart\" onclick=\"quickchart('df-cb1263cc-acab-479b-b758-3a24912250cf')\"\n",
              "                title=\"Suggest charts\"\n",
              "                style=\"display:none;\">\n",
              "\n",
              "<svg xmlns=\"http://www.w3.org/2000/svg\" height=\"24px\"viewBox=\"0 0 24 24\"\n",
              "     width=\"24px\">\n",
              "    <g>\n",
              "        <path d=\"M19 3H5c-1.1 0-2 .9-2 2v14c0 1.1.9 2 2 2h14c1.1 0 2-.9 2-2V5c0-1.1-.9-2-2-2zM9 17H7v-7h2v7zm4 0h-2V7h2v10zm4 0h-2v-4h2v4z\"/>\n",
              "    </g>\n",
              "</svg>\n",
              "      </button>\n",
              "\n",
              "<style>\n",
              "  .colab-df-quickchart {\n",
              "      --bg-color: #E8F0FE;\n",
              "      --fill-color: #1967D2;\n",
              "      --hover-bg-color: #E2EBFA;\n",
              "      --hover-fill-color: #174EA6;\n",
              "      --disabled-fill-color: #AAA;\n",
              "      --disabled-bg-color: #DDD;\n",
              "  }\n",
              "\n",
              "  [theme=dark] .colab-df-quickchart {\n",
              "      --bg-color: #3B4455;\n",
              "      --fill-color: #D2E3FC;\n",
              "      --hover-bg-color: #434B5C;\n",
              "      --hover-fill-color: #FFFFFF;\n",
              "      --disabled-bg-color: #3B4455;\n",
              "      --disabled-fill-color: #666;\n",
              "  }\n",
              "\n",
              "  .colab-df-quickchart {\n",
              "    background-color: var(--bg-color);\n",
              "    border: none;\n",
              "    border-radius: 50%;\n",
              "    cursor: pointer;\n",
              "    display: none;\n",
              "    fill: var(--fill-color);\n",
              "    height: 32px;\n",
              "    padding: 0;\n",
              "    width: 32px;\n",
              "  }\n",
              "\n",
              "  .colab-df-quickchart:hover {\n",
              "    background-color: var(--hover-bg-color);\n",
              "    box-shadow: 0 1px 2px rgba(60, 64, 67, 0.3), 0 1px 3px 1px rgba(60, 64, 67, 0.15);\n",
              "    fill: var(--button-hover-fill-color);\n",
              "  }\n",
              "\n",
              "  .colab-df-quickchart-complete:disabled,\n",
              "  .colab-df-quickchart-complete:disabled:hover {\n",
              "    background-color: var(--disabled-bg-color);\n",
              "    fill: var(--disabled-fill-color);\n",
              "    box-shadow: none;\n",
              "  }\n",
              "\n",
              "  .colab-df-spinner {\n",
              "    border: 2px solid var(--fill-color);\n",
              "    border-color: transparent;\n",
              "    border-bottom-color: var(--fill-color);\n",
              "    animation:\n",
              "      spin 1s steps(1) infinite;\n",
              "  }\n",
              "\n",
              "  @keyframes spin {\n",
              "    0% {\n",
              "      border-color: transparent;\n",
              "      border-bottom-color: var(--fill-color);\n",
              "      border-left-color: var(--fill-color);\n",
              "    }\n",
              "    20% {\n",
              "      border-color: transparent;\n",
              "      border-left-color: var(--fill-color);\n",
              "      border-top-color: var(--fill-color);\n",
              "    }\n",
              "    30% {\n",
              "      border-color: transparent;\n",
              "      border-left-color: var(--fill-color);\n",
              "      border-top-color: var(--fill-color);\n",
              "      border-right-color: var(--fill-color);\n",
              "    }\n",
              "    40% {\n",
              "      border-color: transparent;\n",
              "      border-right-color: var(--fill-color);\n",
              "      border-top-color: var(--fill-color);\n",
              "    }\n",
              "    60% {\n",
              "      border-color: transparent;\n",
              "      border-right-color: var(--fill-color);\n",
              "    }\n",
              "    80% {\n",
              "      border-color: transparent;\n",
              "      border-right-color: var(--fill-color);\n",
              "      border-bottom-color: var(--fill-color);\n",
              "    }\n",
              "    90% {\n",
              "      border-color: transparent;\n",
              "      border-bottom-color: var(--fill-color);\n",
              "    }\n",
              "  }\n",
              "</style>\n",
              "\n",
              "      <script>\n",
              "        async function quickchart(key) {\n",
              "          const quickchartButtonEl =\n",
              "            document.querySelector('#' + key + ' button');\n",
              "          quickchartButtonEl.disabled = true;  // To prevent multiple clicks.\n",
              "          quickchartButtonEl.classList.add('colab-df-spinner');\n",
              "          try {\n",
              "            const charts = await google.colab.kernel.invokeFunction(\n",
              "                'suggestCharts', [key], {});\n",
              "          } catch (error) {\n",
              "            console.error('Error during call to suggestCharts:', error);\n",
              "          }\n",
              "          quickchartButtonEl.classList.remove('colab-df-spinner');\n",
              "          quickchartButtonEl.classList.add('colab-df-quickchart-complete');\n",
              "        }\n",
              "        (() => {\n",
              "          let quickchartButtonEl =\n",
              "            document.querySelector('#df-cb1263cc-acab-479b-b758-3a24912250cf button');\n",
              "          quickchartButtonEl.style.display =\n",
              "            google.colab.kernel.accessAllowed ? 'block' : 'none';\n",
              "        })();\n",
              "      </script>\n",
              "    </div>\n",
              "\n",
              "    </div>\n",
              "  </div>\n"
            ],
            "application/vnd.google.colaboratory.intrinsic+json": {
              "type": "dataframe",
              "summary": "{\n  \"name\": \"pd\",\n  \"rows\": 2,\n  \"fields\": [\n    {\n      \"column\": \"Pred: No\",\n      \"properties\": {\n        \"dtype\": \"number\",\n        \"std\": 279,\n        \"min\": 98,\n        \"max\": 493,\n        \"num_unique_values\": 2,\n        \"samples\": [\n          98,\n          493\n        ],\n        \"semantic_type\": \"\",\n        \"description\": \"\"\n      }\n    },\n    {\n      \"column\": \"Pred: Si\",\n      \"properties\": {\n        \"dtype\": \"number\",\n        \"std\": 131,\n        \"min\": 56,\n        \"max\": 242,\n        \"num_unique_values\": 2,\n        \"samples\": [\n          242,\n          56\n        ],\n        \"semantic_type\": \"\",\n        \"description\": \"\"\n      }\n    }\n  ]\n}"
            }
          },
          "metadata": {},
          "execution_count": 432
        }
      ]
    },
    {
      "cell_type": "markdown",
      "source": [
        "- El modelo predijo correctamente la supervivencia de 242 personas y la no supervivencia de 493 personas.\n",
        "\n",
        "- El modelo se equivocó al predecir que 56 personas sobrevivirían cuando no lo hicieron (falsos positivos).\n",
        "\n",
        "- El modelo se equivocó al predecir que 98 personas no sobrevivirían cuando sí lo hicieron (falsos negativos)."
      ],
      "metadata": {
        "id": "3hqgWjjRqyFu"
      }
    },
    {
      "cell_type": "markdown",
      "source": [
        "### Predicción con arbol de decisión"
      ],
      "metadata": {
        "id": "C1ND9k5-n2-J"
      }
    },
    {
      "cell_type": "code",
      "source": [
        "nueva_persona = [2, 35, 0, 0, 80, 0, 0, 0]\n",
        "prediccion = modelo.predict([nueva_persona])\n",
        "if prediccion[0] == 1:\n",
        "  print(\"Sobreviviste\")\n",
        "else:\n",
        "  print(\"No sobreviviste\")"
      ],
      "metadata": {
        "id": "DB0GiKN5V9nu",
        "colab": {
          "base_uri": "https://localhost:8080/"
        },
        "outputId": "c6fedb20-2264-4752-a6a6-1194599c171d"
      },
      "execution_count": 433,
      "outputs": [
        {
          "output_type": "stream",
          "name": "stdout",
          "text": [
            "Sobreviviste\n"
          ]
        },
        {
          "output_type": "stream",
          "name": "stderr",
          "text": [
            "/usr/local/lib/python3.12/dist-packages/sklearn/utils/validation.py:2739: UserWarning: X does not have valid feature names, but DecisionTreeClassifier was fitted with feature names\n",
            "  warnings.warn(\n"
          ]
        }
      ]
    },
    {
      "cell_type": "markdown",
      "source": [
        "## Random Forest"
      ],
      "metadata": {
        "id": "FKUKU3eIoCtn"
      }
    },
    {
      "cell_type": "markdown",
      "metadata": {
        "id": "8ced4de0"
      },
      "source": [
        "### Preparar modelo de Random Forest"
      ]
    },
    {
      "cell_type": "markdown",
      "source": [
        "Se crean distintos modelos de random forest utilizando la tecnica de splitting y también dejando un modelo que utiliza todo el dataset."
      ],
      "metadata": {
        "id": "XLnFExZ7vL_f"
      }
    },
    {
      "cell_type": "markdown",
      "source": [
        "Configuración para utilizar todo el dataset:"
      ],
      "metadata": {
        "id": "xPfsUPDQvWCK"
      }
    },
    {
      "cell_type": "code",
      "metadata": {
        "id": "e0233277",
        "colab": {
          "base_uri": "https://localhost:8080/"
        },
        "outputId": "e6df5564-90ea-4294-cb87-06da9e9daecc"
      },
      "source": [
        "from sklearn.ensemble import RandomForestClassifier\n",
        "from sklearn.metrics import accuracy_score\n",
        "\n",
        "# Create a Random Forest Classifier model for the initial split\n",
        "modelo_rf = RandomForestClassifier(n_estimators=100, random_state=42)\n",
        "\n",
        "# Train the model on the 100% of the dataset\n",
        "modelo_rf.fit(variable_explicativa, variable_objetivo)\n",
        "\n",
        "# Make predictions on the 100% of the dataset\n",
        "predicciones_rf = modelo_rf.predict(variable_explicativa)\n",
        "\n",
        "\n",
        "# Evaluate the model on the initial test split\n",
        "exactitud_rf = accuracy_score(variable_objetivo, predicciones_rf)\n",
        "# Store accuracy for the initial split\n",
        "accuracy_scores_dict['Random Forest_full'] = exactitud_rf\n",
        "print(f\"Random Forest Initial Split Accuracy: {exactitud_rf:.4f}\")"
      ],
      "execution_count": 434,
      "outputs": [
        {
          "output_type": "stream",
          "name": "stdout",
          "text": [
            "Random Forest Initial Split Accuracy: 0.9820\n",
            "Random Forest 90/10 Split Accuracy: 0.8315\n",
            "Random Forest 60/40 Split Accuracy: 0.7809\n"
          ]
        }
      ]
    },
    {
      "cell_type": "markdown",
      "source": [
        "Configuración para utilizar splitting de 90/10 del dataset:"
      ],
      "metadata": {
        "id": "Q1aM86tnvnwd"
      }
    },
    {
      "cell_type": "code",
      "source": [
        "# Train and evaluate Random Forest with 90/10 split\n",
        "modelo_rf_01 = RandomForestClassifier(n_estimators=100, random_state=42)\n",
        "modelo_rf_01.fit(X_ent_10, y_ent_10)\n",
        "predicciones_rf_01 = modelo_rf_01.predict(X_pru_10)\n",
        "accuracy_rf_01 = accuracy_score(y_pru_10, predicciones_rf_01)\n",
        "accuracy_scores_dict['Random Forest_0.1'] = accuracy_rf_01\n",
        "print(f\"Random Forest 90/10 Split Accuracy: {accuracy_rf_01:.4f}\")"
      ],
      "metadata": {
        "id": "Nbqm_934vlxf"
      },
      "execution_count": null,
      "outputs": []
    },
    {
      "cell_type": "markdown",
      "source": [
        "Configuración para utilizar splitting de 60/40 del dataset:"
      ],
      "metadata": {
        "id": "b3dl_p4rvcjX"
      }
    },
    {
      "cell_type": "code",
      "source": [
        "# Train and evaluate Random Forest with 60/40 split\n",
        "modelo_rf_04 = RandomForestClassifier(n_estimators=100, random_state=42)\n",
        "modelo_rf_04.fit(X_ent_40, y_ent_40)\n",
        "predicciones_rf_04 = modelo_rf_04.predict(X_pru_40)\n",
        "accuracy_rf_04 = accuracy_score(y_pru_40, predicciones_rf_04)\n",
        "accuracy_scores_dict['Random Forest_0.4'] = accuracy_rf_04\n",
        "print(f\"Random Forest 60/40 Split Accuracy: {accuracy_rf_04:.4f}\")"
      ],
      "metadata": {
        "id": "oWs-zfADvkSC"
      },
      "execution_count": null,
      "outputs": []
    },
    {
      "cell_type": "markdown",
      "source": [
        "### Evaluar modelo de Random Forest"
      ],
      "metadata": {
        "id": "U-lbS56w_8Ly"
      }
    },
    {
      "cell_type": "markdown",
      "source": [
        "En esta sección se evalua solo el rendimiento del modelo solo utilizando el modelo que usa el 100% de los datos, para observar el comportamiento del modelo solamente. La comparación de este modelo contra otros modelos se realiza más adelante."
      ],
      "metadata": {
        "id": "qlCB5NiZvtkR"
      }
    },
    {
      "cell_type": "code",
      "metadata": {
        "colab": {
          "base_uri": "https://localhost:8080/"
        },
        "id": "dc486793",
        "outputId": "d0cca8bd-d6ab-46ec-ad7b-5fbade7be113"
      },
      "source": [
        "# Evaluate the model\n",
        "from sklearn.metrics import accuracy_score, classification_report, confusion_matrix\n",
        "\n",
        "exactitud_rf = accuracy_score(variable_objetivo, predicciones_rf)\n",
        "print(f\"Exactitud del modelo Random Forest: {exactitud_rf}\")\n",
        "\n",
        "print(\"\\nInforme de clasificación:\")\n",
        "print(classification_report(variable_objetivo, predicciones_rf))\n",
        "\n",
        "print(\"\\nMatriz de confusión:\")\n",
        "print(confusion_matrix(variable_objetivo, predicciones_rf))"
      ],
      "execution_count": 435,
      "outputs": [
        {
          "output_type": "stream",
          "name": "stdout",
          "text": [
            "Exactitud del modelo Random Forest: 0.9820022497187851\n",
            "\n",
            "Informe de clasificación:\n",
            "              precision    recall  f1-score   support\n",
            "\n",
            "           0       0.98      0.99      0.99       549\n",
            "           1       0.98      0.97      0.98       340\n",
            "\n",
            "    accuracy                           0.98       889\n",
            "   macro avg       0.98      0.98      0.98       889\n",
            "weighted avg       0.98      0.98      0.98       889\n",
            "\n",
            "\n",
            "Matriz de confusión:\n",
            "[[543   6]\n",
            " [ 10 330]]\n"
          ]
        }
      ]
    },
    {
      "cell_type": "markdown",
      "source": [
        "Se puede pensar que en este caso ocurre overfitting, ya que el modelo se ajusta muy bien al data set pero esto solo ocurre por que esta utilizando el dataset completo, si se le entrega una conjunto de datos nuevo probablemente no entregue los mismo resultados."
      ],
      "metadata": {
        "id": "Fna_pNUZwEGh"
      }
    },
    {
      "cell_type": "markdown",
      "metadata": {
        "id": "a91fb168"
      },
      "source": [
        "## Naive Bayes"
      ]
    },
    {
      "cell_type": "markdown",
      "source": [
        "### Preparar modelo de random bayes"
      ],
      "metadata": {
        "id": "Wzd13o2nAGGM"
      }
    },
    {
      "cell_type": "markdown",
      "source": [
        "Inicializar y entrenar el modelo de Gaussian Naive Bayes, para luego hacer predicciones en set de prueba/testing.\n"
      ],
      "metadata": {
        "id": "YL2QEGFQ04Q9"
      }
    },
    {
      "cell_type": "code",
      "metadata": {
        "id": "f302be9a",
        "colab": {
          "base_uri": "https://localhost:8080/"
        },
        "outputId": "5003f566-ce12-4d5e-a885-8d388c2f7a8c"
      },
      "source": [
        "from sklearn.naive_bayes import GaussianNB\n",
        "from sklearn.metrics import accuracy_score\n",
        "\n",
        "# Create a Naive Bayes model and train on the full dataset\n",
        "modelo_nb = GaussianNB()\n",
        "modelo_nb.fit(variable_explicativa, variable_objetivo)\n",
        "\n",
        "# Make predictions on the full dataset\n",
        "predicciones_nb_full = modelo_nb.predict(variable_explicativa)\n",
        "\n",
        "# Evaluate the model on the full dataset\n",
        "exactitud_nb_full = accuracy_score(variable_objetivo, predicciones_nb_full)\n",
        "accuracy_scores_dict['Naive Bayes_Full Data'] = exactitud_nb_full\n",
        "print(f\"Naive Bayes Full Data Accuracy: {exactitud_nb_full:.4f}\")\n",
        "\n",
        "\n",
        "# Train and evaluate Naive Bayes with 90/10 split (using pre-defined split variables)\n",
        "modelo_nb_01 = GaussianNB()\n",
        "modelo_nb_01.fit(X_ent_10, y_ent_10)\n",
        "predicciones_nb_01 = modelo_nb_01.predict(X_pru_10)\n",
        "accuracy_nb_01 = accuracy_score(y_pru_10, predicciones_nb_01)\n",
        "accuracy_scores_dict['Naive Bayes_0.1'] = accuracy_nb_01\n",
        "print(f\"Naive Bayes 90/10 Split Accuracy: {accuracy_nb_01:.4f}\")\n",
        "\n",
        "# Train and evaluate Naive Bayes with 60/40 split (using pre-defined split variables)\n",
        "modelo_nb_04 = GaussianNB()\n",
        "modelo_nb_04.fit(X_ent_40, y_ent_40)\n",
        "predicciones_nb_04 = modelo_nb_04.predict(X_pru_40)\n",
        "accuracy_nb_04 = accuracy_score(y_pru_40, predicciones_nb_04)\n",
        "accuracy_scores_dict['Naive Bayes_0.4'] = accuracy_nb_04\n",
        "print(f\"Naive Bayes 60/40 Split Accuracy: {accuracy_nb_04:.4f}\")"
      ],
      "execution_count": 436,
      "outputs": [
        {
          "output_type": "stream",
          "name": "stdout",
          "text": [
            "Naive Bayes Full Data Accuracy: 0.7885\n",
            "Naive Bayes 90/10 Split Accuracy: 0.8090\n",
            "Naive Bayes 60/40 Split Accuracy: 0.7893\n"
          ]
        }
      ]
    },
    {
      "cell_type": "markdown",
      "source": [
        "Evaluar modelo Naive Bayes calculando y mostrando el puntaje de exactitud, reporte de clasificación y la matriz de confusión (accuracy score, classification report, and confusion matrix.).\n"
      ],
      "metadata": {
        "id": "JkWyHx871Kdx"
      }
    },
    {
      "cell_type": "code",
      "metadata": {
        "colab": {
          "base_uri": "https://localhost:8080/"
        },
        "id": "ab1cc076",
        "outputId": "745b9323-6274-4fd3-9d39-754663fbd5f2"
      },
      "source": [
        "# Evaluate the model\n",
        "from sklearn.metrics import accuracy_score, classification_report, confusion_matrix\n",
        "\n",
        "exactitud_nb = accuracy_score(variable_objetivo, predicciones_nb_full)\n",
        "print(f\"Exactitud del modelo Naive Bayes: {exactitud_nb_full}\")\n",
        "\n",
        "print(\"\\nInforme de clasificación:\")\n",
        "print(classification_report(variable_objetivo, predicciones_nb_full))\n",
        "\n",
        "print(\"\\nMatriz de confusión:\")\n",
        "print(confusion_matrix(variable_objetivo, predicciones_nb_full))"
      ],
      "execution_count": 437,
      "outputs": [
        {
          "output_type": "stream",
          "name": "stdout",
          "text": [
            "Exactitud del modelo Naive Bayes: 0.7885264341957255\n",
            "\n",
            "Informe de clasificación:\n",
            "              precision    recall  f1-score   support\n",
            "\n",
            "           0       0.82      0.84      0.83       549\n",
            "           1       0.73      0.71      0.72       340\n",
            "\n",
            "    accuracy                           0.79       889\n",
            "   macro avg       0.78      0.77      0.78       889\n",
            "weighted avg       0.79      0.79      0.79       889\n",
            "\n",
            "\n",
            "Matriz de confusión:\n",
            "[[459  90]\n",
            " [ 98 242]]\n"
          ]
        }
      ]
    },
    {
      "cell_type": "markdown",
      "source": [
        "## Neural Network"
      ],
      "metadata": {
        "id": "CgCdiCRdMjgs"
      }
    },
    {
      "cell_type": "code",
      "source": [
        "# --- Neural Network ---\n",
        "\n",
        "# Create Neural Network model and train on the full dataset\n",
        "modelo_nn_full = MLPClassifier(random_state=42, max_iter=NN_iter_epoch)\n",
        "modelo_nn_full.fit(variable_explicativa, variable_objetivo)\n",
        "\n",
        "# Make predictions on the full dataset\n",
        "predicciones_nn_full = modelo_nn_full.predict(variable_explicativa)\n",
        "\n",
        "# Evaluate the model on the full dataset\n",
        "exactitud_nn_full = accuracy_score(variable_objetivo, predicciones_nn_full)\n",
        "accuracy_scores_dict['Neural Network_Full Data'] = exactitud_nn_full\n",
        "print(f\"Neural Network Full Data Accuracy: {exactitud_nn_full:.4f}\")\n",
        "\n",
        "# Train and evaluate Neural Network with 90/10 split (using pre-defined split variables)\n",
        "modelo_nn_01 = MLPClassifier(random_state=42, max_iter=1000)\n",
        "modelo_nn_01.fit(X_ent_10, y_ent_10)\n",
        "predicciones_nn_01 = modelo_nn_01.predict(X_pru_10)\n",
        "accuracy_nn_01 = accuracy_score(y_pru_10, predicciones_nn_01)\n",
        "accuracy_scores_dict['Neural Network_0.1'] = accuracy_nn_01\n",
        "print(f\"Neural Network 90/10 Split Accuracy: {accuracy_nn_01:.4f}\")\n",
        "\n",
        "# Train and evaluate Neural Network with 60/40 split\n",
        "modelo_nn_04 = MLPClassifier(random_state=42, max_iter=1000)\n",
        "modelo_nn_04.fit(X_ent_40, y_ent_40)\n",
        "predicciones_nn_04 = modelo_nn_04.predict(X_pru_40)\n",
        "accuracy_nn_04 = accuracy_score(y_pru_40, predicciones_nn_04)\n",
        "accuracy_scores_dict['Neural Network_0.4'] = accuracy_nn_04\n",
        "print(f\"Neural Network 60/40 Split Accuracy: {accuracy_nn_04:.4f}\")"
      ],
      "metadata": {
        "colab": {
          "base_uri": "https://localhost:8080/"
        },
        "id": "9eey7SRObiYI",
        "outputId": "9a4a5f8a-9020-4482-994d-9a2533791e95"
      },
      "execution_count": 438,
      "outputs": [
        {
          "output_type": "stream",
          "name": "stdout",
          "text": [
            "Neural Network Full Data Accuracy: 0.8009\n",
            "Neural Network 90/10 Split Accuracy: 0.7978\n",
            "Neural Network 60/40 Split Accuracy: 0.7809\n"
          ]
        }
      ]
    },
    {
      "cell_type": "markdown",
      "source": [
        "## Support Vector Machine"
      ],
      "metadata": {
        "id": "0AbAgGl4Mfru"
      }
    },
    {
      "cell_type": "code",
      "source": [
        "# --- Support Vector Machine ---\n",
        "\n",
        "# Create Support Vector Machine model and train on the full dataset\n",
        "modelo_svm_full = SVC(random_state=42)\n",
        "modelo_svm_full.fit(variable_explicativa, variable_objetivo)\n",
        "\n",
        "# Make predictions on the full dataset\n",
        "predicciones_svm_full = modelo_svm_full.predict(variable_explicativa)\n",
        "\n",
        "# Evaluate the model on the full dataset\n",
        "exactitud_svm_full = accuracy_score(variable_objetivo, predicciones_svm_full)\n",
        "accuracy_scores_dict['Support Vector Machine_Full Data'] = exactitud_svm_full\n",
        "print(f\"Support Vector Machine Full Data Accuracy: {exactitud_svm_full:.4f}\")\n",
        "\n",
        "# Train and evaluate Support Vector Machine with 90/10 split\n",
        "modelo_svm_01 = SVC(random_state=42)\n",
        "modelo_svm_01.fit(X_ent_10, y_ent_10)\n",
        "predicciones_svm_01 = modelo_svm_01.predict(X_pru_10)\n",
        "accuracy_svm_01 = accuracy_score(y_pru_10, predicciones_svm_01)\n",
        "accuracy_scores_dict['Support Vector Machine_0.1'] = accuracy_svm_01\n",
        "print(f\"Support Vector Machine 90/10 Split Accuracy: {accuracy_svm_01:.4f}\")\n",
        "\n",
        "# Train and evaluate Support Vector Machine with 60/40 split\n",
        "modelo_svm_04 = SVC(random_state=42)\n",
        "modelo_svm_04.fit(X_ent_40, y_ent_40)\n",
        "predicciones_svm_04 = modelo_svm_04.predict(X_pru_40)\n",
        "accuracy_svm_04 = accuracy_score(y_pru_40, predicciones_svm_04)\n",
        "accuracy_scores_dict['Support Vector Machine_0.4'] = accuracy_svm_04\n",
        "print(f\"Support Vector Machine 60/40 Split Accuracy: {accuracy_svm_04:.4f}\")"
      ],
      "metadata": {
        "colab": {
          "base_uri": "https://localhost:8080/"
        },
        "id": "Ml4cBoyeo6A2",
        "outputId": "f98ee0ae-9a82-4bbf-eea0-6f17d264794b"
      },
      "execution_count": 439,
      "outputs": [
        {
          "output_type": "stream",
          "name": "stdout",
          "text": [
            "Support Vector Machine Full Data Accuracy: 0.6850\n",
            "Support Vector Machine 90/10 Split Accuracy: 0.6854\n",
            "Support Vector Machine 60/40 Split Accuracy: 0.6601\n"
          ]
        }
      ]
    },
    {
      "cell_type": "markdown",
      "source": [
        "# Comparación de los resultados || Cual de los modelos de Machine Learning es mejor\n",
        "\n",
        "Se utiliza en una primera instancia el 100% de los datos para el entrenamiento."
      ],
      "metadata": {
        "id": "Hp00Fa0D47Fi"
      }
    },
    {
      "cell_type": "markdown",
      "metadata": {
        "id": "464b37b5"
      },
      "source": [
        "## Comparación de Modelos - Entrenamiento y Evaluación con 100% de los Datos\n",
        "\n",
        "En esta sección, compararemos la exactitud de los modelos cuando fueron entrenados y evaluados utilizando el conjunto completo de datos. Es importante recordar que un alto rendimiento en los datos de entrenamiento puede indicar sobreajuste."
      ]
    },
    {
      "cell_type": "code",
      "metadata": {
        "colab": {
          "base_uri": "https://localhost:8080/"
        },
        "id": "163d8ecb",
        "outputId": "8977514d-112a-445f-9cfc-0a6cc41cdb24"
      },
      "source": [
        "# Display accuracy for models trained and evaluated on the full dataset\n",
        "print(\"Accuracy of Models on 100% Data:\")\n",
        "for name, metrics in results_full_data.items():\n",
        "    # Check if the name corresponds to a model trained on full data\n",
        "    if \"Full Data\" in name or \"100% Data\" in name or \"_Full Data\" in name: # Adjust keys as needed\n",
        "         print(f\"- {name}: {metrics['Accuracy']:.4f}\")\n",
        "\n",
        "# You can also access other metrics like Precision, Recall, F1-Score from results_full_data\n",
        "# For example:\n",
        "# print(\"\\nClassification Report for Random Forest (Full Data):\")\n",
        "# print(results_full_data[\"Random Forest (Full Data)\"][\"Classification Report\"])"
      ],
      "execution_count": 440,
      "outputs": [
        {
          "output_type": "stream",
          "name": "stdout",
          "text": [
            "Accuracy of Models on 100% Data:\n",
            "- Decision Tree (Full Data): 0.8268\n",
            "- Random Forest (Full Data): 0.9820\n",
            "- Naive Bayes (Full Data): 0.7885\n",
            "- Neural Network (Full Data): 0.8009\n",
            "- Support Vector Machine (Full Data): 0.6850\n"
          ]
        }
      ]
    },
    {
      "cell_type": "markdown",
      "source": [
        "En lo general se puede observar que el modelo con mejores resultados utilizando el dataset completo fue el Random Forest, en segundo lugar viene el modelo de Arbol de clasificación, luego Red Neuronal y así sucesivamente.\n",
        "\n",
        "Esto no significa que el modelo responda mejor al predecir nuevos datos, en la siguiente sección se muestran los resultados que arrojaron los modelos utilizando las segmentaciones 60/40 y 90/10.\n"
      ],
      "metadata": {
        "id": "PF8OMrEAtnOv"
      }
    },
    {
      "cell_type": "markdown",
      "metadata": {
        "id": "31ae3be4"
      },
      "source": [
        "## Comparación de Modelos - Evaluados con Divisiones 90/10 y 60/40\n",
        "\n",
        "Aquí compararemos el rendimiento de los modelos en los conjuntos de prueba separados, utilizando las divisiones 90/10 (test_size=0.1) y 60/40 (test_size=0.4). Estos resultados son mejores indicadores de la capacidad de generalización de los modelos a datos no vistos."
      ]
    },
    {
      "cell_type": "code",
      "metadata": {
        "colab": {
          "base_uri": "https://localhost:8080/",
          "height": 256
        },
        "id": "7dde3230",
        "outputId": "5a2fee47-bd2a-4919-c55e-d37208510b7b"
      },
      "source": [
        "import pandas as pd\n",
        "\n",
        "# Filter the accuracy_scores_dict to show only results for 0.1 and 0.4 test sizes\n",
        "comparison_data = []\n",
        "for key, accuracy in accuracy_scores_dict.items():\n",
        "    if '_0.1' in key or '_0.4' in key in key:\n",
        "        model_name, split_size_str = key.rsplit('_', 1)\n",
        "        comparison_data.append({'Model': model_name, 'Test Size': split_size_str, 'Accuracy': accuracy})\n",
        "\n",
        "# Create a DataFrame for easier visualization\n",
        "comparison_df = pd.DataFrame(comparison_data)\n",
        "\n",
        "# Pivot the DataFrame to have models as rows and test sizes as columns\n",
        "pivot_df = comparison_df.pivot(index='Model', columns='Test Size', values='Accuracy')\n",
        "\n",
        "print(\"Accuracy Comparison Across Models and Test Sizes (Initial, 0.1, 0.4):\")\n",
        "display(pivot_df)"
      ],
      "execution_count": 441,
      "outputs": [
        {
          "output_type": "stream",
          "name": "stdout",
          "text": [
            "Accuracy Comparison Across Models and Test Sizes (Initial, 0.1, 0.4):\n"
          ]
        },
        {
          "output_type": "display_data",
          "data": {
            "text/plain": [
              "Test Size                    0.1       0.4\n",
              "Model                                     \n",
              "Decision Tree (3)       0.808989  0.808989\n",
              "Naive Bayes             0.808989  0.789326\n",
              "Neural Network          0.797753  0.780899\n",
              "Random Forest           0.831461  0.780899\n",
              "Support Vector Machine  0.685393  0.660112"
            ],
            "text/html": [
              "\n",
              "  <div id=\"df-837c02b1-286b-434a-9f7b-249c767e62c3\" class=\"colab-df-container\">\n",
              "    <div>\n",
              "<style scoped>\n",
              "    .dataframe tbody tr th:only-of-type {\n",
              "        vertical-align: middle;\n",
              "    }\n",
              "\n",
              "    .dataframe tbody tr th {\n",
              "        vertical-align: top;\n",
              "    }\n",
              "\n",
              "    .dataframe thead th {\n",
              "        text-align: right;\n",
              "    }\n",
              "</style>\n",
              "<table border=\"1\" class=\"dataframe\">\n",
              "  <thead>\n",
              "    <tr style=\"text-align: right;\">\n",
              "      <th>Test Size</th>\n",
              "      <th>0.1</th>\n",
              "      <th>0.4</th>\n",
              "    </tr>\n",
              "    <tr>\n",
              "      <th>Model</th>\n",
              "      <th></th>\n",
              "      <th></th>\n",
              "    </tr>\n",
              "  </thead>\n",
              "  <tbody>\n",
              "    <tr>\n",
              "      <th>Decision Tree (3)</th>\n",
              "      <td>0.808989</td>\n",
              "      <td>0.808989</td>\n",
              "    </tr>\n",
              "    <tr>\n",
              "      <th>Naive Bayes</th>\n",
              "      <td>0.808989</td>\n",
              "      <td>0.789326</td>\n",
              "    </tr>\n",
              "    <tr>\n",
              "      <th>Neural Network</th>\n",
              "      <td>0.797753</td>\n",
              "      <td>0.780899</td>\n",
              "    </tr>\n",
              "    <tr>\n",
              "      <th>Random Forest</th>\n",
              "      <td>0.831461</td>\n",
              "      <td>0.780899</td>\n",
              "    </tr>\n",
              "    <tr>\n",
              "      <th>Support Vector Machine</th>\n",
              "      <td>0.685393</td>\n",
              "      <td>0.660112</td>\n",
              "    </tr>\n",
              "  </tbody>\n",
              "</table>\n",
              "</div>\n",
              "    <div class=\"colab-df-buttons\">\n",
              "\n",
              "  <div class=\"colab-df-container\">\n",
              "    <button class=\"colab-df-convert\" onclick=\"convertToInteractive('df-837c02b1-286b-434a-9f7b-249c767e62c3')\"\n",
              "            title=\"Convert this dataframe to an interactive table.\"\n",
              "            style=\"display:none;\">\n",
              "\n",
              "  <svg xmlns=\"http://www.w3.org/2000/svg\" height=\"24px\" viewBox=\"0 -960 960 960\">\n",
              "    <path d=\"M120-120v-720h720v720H120Zm60-500h600v-160H180v160Zm220 220h160v-160H400v160Zm0 220h160v-160H400v160ZM180-400h160v-160H180v160Zm440 0h160v-160H620v160ZM180-180h160v-160H180v160Zm440 0h160v-160H620v160Z\"/>\n",
              "  </svg>\n",
              "    </button>\n",
              "\n",
              "  <style>\n",
              "    .colab-df-container {\n",
              "      display:flex;\n",
              "      gap: 12px;\n",
              "    }\n",
              "\n",
              "    .colab-df-convert {\n",
              "      background-color: #E8F0FE;\n",
              "      border: none;\n",
              "      border-radius: 50%;\n",
              "      cursor: pointer;\n",
              "      display: none;\n",
              "      fill: #1967D2;\n",
              "      height: 32px;\n",
              "      padding: 0 0 0 0;\n",
              "      width: 32px;\n",
              "    }\n",
              "\n",
              "    .colab-df-convert:hover {\n",
              "      background-color: #E2EBFA;\n",
              "      box-shadow: 0px 1px 2px rgba(60, 64, 67, 0.3), 0px 1px 3px 1px rgba(60, 64, 67, 0.15);\n",
              "      fill: #174EA6;\n",
              "    }\n",
              "\n",
              "    .colab-df-buttons div {\n",
              "      margin-bottom: 4px;\n",
              "    }\n",
              "\n",
              "    [theme=dark] .colab-df-convert {\n",
              "      background-color: #3B4455;\n",
              "      fill: #D2E3FC;\n",
              "    }\n",
              "\n",
              "    [theme=dark] .colab-df-convert:hover {\n",
              "      background-color: #434B5C;\n",
              "      box-shadow: 0px 1px 3px 1px rgba(0, 0, 0, 0.15);\n",
              "      filter: drop-shadow(0px 1px 2px rgba(0, 0, 0, 0.3));\n",
              "      fill: #FFFFFF;\n",
              "    }\n",
              "  </style>\n",
              "\n",
              "    <script>\n",
              "      const buttonEl =\n",
              "        document.querySelector('#df-837c02b1-286b-434a-9f7b-249c767e62c3 button.colab-df-convert');\n",
              "      buttonEl.style.display =\n",
              "        google.colab.kernel.accessAllowed ? 'block' : 'none';\n",
              "\n",
              "      async function convertToInteractive(key) {\n",
              "        const element = document.querySelector('#df-837c02b1-286b-434a-9f7b-249c767e62c3');\n",
              "        const dataTable =\n",
              "          await google.colab.kernel.invokeFunction('convertToInteractive',\n",
              "                                                    [key], {});\n",
              "        if (!dataTable) return;\n",
              "\n",
              "        const docLinkHtml = 'Like what you see? Visit the ' +\n",
              "          '<a target=\"_blank\" href=https://colab.research.google.com/notebooks/data_table.ipynb>data table notebook</a>'\n",
              "          + ' to learn more about interactive tables.';\n",
              "        element.innerHTML = '';\n",
              "        dataTable['output_type'] = 'display_data';\n",
              "        await google.colab.output.renderOutput(dataTable, element);\n",
              "        const docLink = document.createElement('div');\n",
              "        docLink.innerHTML = docLinkHtml;\n",
              "        element.appendChild(docLink);\n",
              "      }\n",
              "    </script>\n",
              "  </div>\n",
              "\n",
              "\n",
              "    <div id=\"df-483a74fc-ef36-46bf-a90e-ca8cd6e858a3\">\n",
              "      <button class=\"colab-df-quickchart\" onclick=\"quickchart('df-483a74fc-ef36-46bf-a90e-ca8cd6e858a3')\"\n",
              "                title=\"Suggest charts\"\n",
              "                style=\"display:none;\">\n",
              "\n",
              "<svg xmlns=\"http://www.w3.org/2000/svg\" height=\"24px\"viewBox=\"0 0 24 24\"\n",
              "     width=\"24px\">\n",
              "    <g>\n",
              "        <path d=\"M19 3H5c-1.1 0-2 .9-2 2v14c0 1.1.9 2 2 2h14c1.1 0 2-.9 2-2V5c0-1.1-.9-2-2-2zM9 17H7v-7h2v7zm4 0h-2V7h2v10zm4 0h-2v-4h2v4z\"/>\n",
              "    </g>\n",
              "</svg>\n",
              "      </button>\n",
              "\n",
              "<style>\n",
              "  .colab-df-quickchart {\n",
              "      --bg-color: #E8F0FE;\n",
              "      --fill-color: #1967D2;\n",
              "      --hover-bg-color: #E2EBFA;\n",
              "      --hover-fill-color: #174EA6;\n",
              "      --disabled-fill-color: #AAA;\n",
              "      --disabled-bg-color: #DDD;\n",
              "  }\n",
              "\n",
              "  [theme=dark] .colab-df-quickchart {\n",
              "      --bg-color: #3B4455;\n",
              "      --fill-color: #D2E3FC;\n",
              "      --hover-bg-color: #434B5C;\n",
              "      --hover-fill-color: #FFFFFF;\n",
              "      --disabled-bg-color: #3B4455;\n",
              "      --disabled-fill-color: #666;\n",
              "  }\n",
              "\n",
              "  .colab-df-quickchart {\n",
              "    background-color: var(--bg-color);\n",
              "    border: none;\n",
              "    border-radius: 50%;\n",
              "    cursor: pointer;\n",
              "    display: none;\n",
              "    fill: var(--fill-color);\n",
              "    height: 32px;\n",
              "    padding: 0;\n",
              "    width: 32px;\n",
              "  }\n",
              "\n",
              "  .colab-df-quickchart:hover {\n",
              "    background-color: var(--hover-bg-color);\n",
              "    box-shadow: 0 1px 2px rgba(60, 64, 67, 0.3), 0 1px 3px 1px rgba(60, 64, 67, 0.15);\n",
              "    fill: var(--button-hover-fill-color);\n",
              "  }\n",
              "\n",
              "  .colab-df-quickchart-complete:disabled,\n",
              "  .colab-df-quickchart-complete:disabled:hover {\n",
              "    background-color: var(--disabled-bg-color);\n",
              "    fill: var(--disabled-fill-color);\n",
              "    box-shadow: none;\n",
              "  }\n",
              "\n",
              "  .colab-df-spinner {\n",
              "    border: 2px solid var(--fill-color);\n",
              "    border-color: transparent;\n",
              "    border-bottom-color: var(--fill-color);\n",
              "    animation:\n",
              "      spin 1s steps(1) infinite;\n",
              "  }\n",
              "\n",
              "  @keyframes spin {\n",
              "    0% {\n",
              "      border-color: transparent;\n",
              "      border-bottom-color: var(--fill-color);\n",
              "      border-left-color: var(--fill-color);\n",
              "    }\n",
              "    20% {\n",
              "      border-color: transparent;\n",
              "      border-left-color: var(--fill-color);\n",
              "      border-top-color: var(--fill-color);\n",
              "    }\n",
              "    30% {\n",
              "      border-color: transparent;\n",
              "      border-left-color: var(--fill-color);\n",
              "      border-top-color: var(--fill-color);\n",
              "      border-right-color: var(--fill-color);\n",
              "    }\n",
              "    40% {\n",
              "      border-color: transparent;\n",
              "      border-right-color: var(--fill-color);\n",
              "      border-top-color: var(--fill-color);\n",
              "    }\n",
              "    60% {\n",
              "      border-color: transparent;\n",
              "      border-right-color: var(--fill-color);\n",
              "    }\n",
              "    80% {\n",
              "      border-color: transparent;\n",
              "      border-right-color: var(--fill-color);\n",
              "      border-bottom-color: var(--fill-color);\n",
              "    }\n",
              "    90% {\n",
              "      border-color: transparent;\n",
              "      border-bottom-color: var(--fill-color);\n",
              "    }\n",
              "  }\n",
              "</style>\n",
              "\n",
              "      <script>\n",
              "        async function quickchart(key) {\n",
              "          const quickchartButtonEl =\n",
              "            document.querySelector('#' + key + ' button');\n",
              "          quickchartButtonEl.disabled = true;  // To prevent multiple clicks.\n",
              "          quickchartButtonEl.classList.add('colab-df-spinner');\n",
              "          try {\n",
              "            const charts = await google.colab.kernel.invokeFunction(\n",
              "                'suggestCharts', [key], {});\n",
              "          } catch (error) {\n",
              "            console.error('Error during call to suggestCharts:', error);\n",
              "          }\n",
              "          quickchartButtonEl.classList.remove('colab-df-spinner');\n",
              "          quickchartButtonEl.classList.add('colab-df-quickchart-complete');\n",
              "        }\n",
              "        (() => {\n",
              "          let quickchartButtonEl =\n",
              "            document.querySelector('#df-483a74fc-ef36-46bf-a90e-ca8cd6e858a3 button');\n",
              "          quickchartButtonEl.style.display =\n",
              "            google.colab.kernel.accessAllowed ? 'block' : 'none';\n",
              "        })();\n",
              "      </script>\n",
              "    </div>\n",
              "\n",
              "  <div id=\"id_9e69772c-e826-4a94-b9d7-6e4916b9906f\">\n",
              "    <style>\n",
              "      .colab-df-generate {\n",
              "        background-color: #E8F0FE;\n",
              "        border: none;\n",
              "        border-radius: 50%;\n",
              "        cursor: pointer;\n",
              "        display: none;\n",
              "        fill: #1967D2;\n",
              "        height: 32px;\n",
              "        padding: 0 0 0 0;\n",
              "        width: 32px;\n",
              "      }\n",
              "\n",
              "      .colab-df-generate:hover {\n",
              "        background-color: #E2EBFA;\n",
              "        box-shadow: 0px 1px 2px rgba(60, 64, 67, 0.3), 0px 1px 3px 1px rgba(60, 64, 67, 0.15);\n",
              "        fill: #174EA6;\n",
              "      }\n",
              "\n",
              "      [theme=dark] .colab-df-generate {\n",
              "        background-color: #3B4455;\n",
              "        fill: #D2E3FC;\n",
              "      }\n",
              "\n",
              "      [theme=dark] .colab-df-generate:hover {\n",
              "        background-color: #434B5C;\n",
              "        box-shadow: 0px 1px 3px 1px rgba(0, 0, 0, 0.15);\n",
              "        filter: drop-shadow(0px 1px 2px rgba(0, 0, 0, 0.3));\n",
              "        fill: #FFFFFF;\n",
              "      }\n",
              "    </style>\n",
              "    <button class=\"colab-df-generate\" onclick=\"generateWithVariable('pivot_df')\"\n",
              "            title=\"Generate code using this dataframe.\"\n",
              "            style=\"display:none;\">\n",
              "\n",
              "  <svg xmlns=\"http://www.w3.org/2000/svg\" height=\"24px\"viewBox=\"0 0 24 24\"\n",
              "       width=\"24px\">\n",
              "    <path d=\"M7,19H8.4L18.45,9,17,7.55,7,17.6ZM5,21V16.75L18.45,3.32a2,2,0,0,1,2.83,0l1.4,1.43a1.91,1.91,0,0,1,.58,1.4,1.91,1.91,0,0,1-.58,1.4L9.25,21ZM18.45,9,17,7.55Zm-12,3A5.31,5.31,0,0,0,4.9,8.1,5.31,5.31,0,0,0,1,6.5,5.31,5.31,0,0,0,4.9,4.9,5.31,5.31,0,0,0,6.5,1,5.31,5.31,0,0,0,8.1,4.9,5.31,5.31,0,0,0,12,6.5,5.46,5.46,0,0,0,6.5,12Z\"/>\n",
              "  </svg>\n",
              "    </button>\n",
              "    <script>\n",
              "      (() => {\n",
              "      const buttonEl =\n",
              "        document.querySelector('#id_9e69772c-e826-4a94-b9d7-6e4916b9906f button.colab-df-generate');\n",
              "      buttonEl.style.display =\n",
              "        google.colab.kernel.accessAllowed ? 'block' : 'none';\n",
              "\n",
              "      buttonEl.onclick = () => {\n",
              "        google.colab.notebook.generateWithVariable('pivot_df');\n",
              "      }\n",
              "      })();\n",
              "    </script>\n",
              "  </div>\n",
              "\n",
              "    </div>\n",
              "  </div>\n"
            ],
            "application/vnd.google.colaboratory.intrinsic+json": {
              "type": "dataframe",
              "variable_name": "pivot_df",
              "summary": "{\n  \"name\": \"pivot_df\",\n  \"rows\": 5,\n  \"fields\": [\n    {\n      \"column\": \"Model\",\n      \"properties\": {\n        \"dtype\": \"string\",\n        \"num_unique_values\": 5,\n        \"samples\": [\n          \"Naive Bayes\",\n          \"Support Vector Machine\",\n          \"Neural Network\"\n        ],\n        \"semantic_type\": \"\",\n        \"description\": \"\"\n      }\n    },\n    {\n      \"column\": \"0.1\",\n      \"properties\": {\n        \"dtype\": \"number\",\n        \"std\": 0.05784061876958989,\n        \"min\": 0.6853932584269663,\n        \"max\": 0.8314606741573034,\n        \"num_unique_values\": 4,\n        \"samples\": [\n          0.797752808988764,\n          0.6853932584269663,\n          0.8089887640449438\n        ],\n        \"semantic_type\": \"\",\n        \"description\": \"\"\n      }\n    },\n    {\n      \"column\": \"0.4\",\n      \"properties\": {\n        \"dtype\": \"number\",\n        \"std\": 0.0592223838267079,\n        \"min\": 0.6601123595505618,\n        \"max\": 0.8089887640449438,\n        \"num_unique_values\": 4,\n        \"samples\": [\n          0.7893258426966292,\n          0.6601123595505618,\n          0.8089887640449438\n        ],\n        \"semantic_type\": \"\",\n        \"description\": \"\"\n      }\n    }\n  ]\n}"
            }
          },
          "metadata": {}
        }
      ]
    },
    {
      "cell_type": "markdown",
      "source": [
        "El que mantiene el mejor rendimiento al utilizar la división de training/test es el modelo de arbol de clasificación. El modelo Random Forest funciona bien con la segmentación 90/10 pero es peor al utilizar 60/40 comparado al arbol de clasificación.\n",
        "\n",
        "El peor modelo entre todos estos es el modelo de Support Vector Machine, Naive Bayes también mantiene buenos puntajes pero no supera a los modelos de Arbol."
      ],
      "metadata": {
        "id": "ZibZyhOyuNPw"
      }
    },
    {
      "cell_type": "markdown",
      "source": [
        "## Gráfico de comparación de exactitud de los modelos utilizados"
      ],
      "metadata": {
        "id": "OplmMS9Su3v2"
      }
    },
    {
      "cell_type": "code",
      "source": [
        "import matplotlib.pyplot as plt\n",
        "plt.figure(figsize=(12, 6))\n",
        "pivot_df.plot(kind='bar', figsize=(12, 6))\n",
        "plt.title('Model Accuracy by Test Size')\n",
        "plt.ylabel('Accuracy')\n",
        "plt.xticks(rotation=45, ha='right')\n",
        "plt.tight_layout()\n",
        "plt.show()"
      ],
      "metadata": {
        "colab": {
          "base_uri": "https://localhost:8080/",
          "height": 560
        },
        "id": "OVfu1uPutPRC",
        "outputId": "0e9644b7-83a4-46ae-cafc-13d4dc9939a5"
      },
      "execution_count": 442,
      "outputs": [
        {
          "output_type": "display_data",
          "data": {
            "text/plain": [
              "<Figure size 1200x600 with 0 Axes>"
            ]
          },
          "metadata": {}
        },
        {
          "output_type": "display_data",
          "data": {
            "text/plain": [
              "<Figure size 1200x600 with 1 Axes>"
            ],
            "image/png": "[encoded data removed]"
          },
          "metadata": {}
        }
      ]
    },
    {
      "cell_type": "markdown",
      "metadata": {
        "id": "6b78f79d"
      },
      "source": [
        "### Interpretación del Gráfico: Exactitud de los Modelos por Tamaño del Conjunto de Prueba\n",
        "\n",
        "El gráfico presentado visualiza la comparación del rendimiento de los distintos modelos de Machine Learning evaluados, mostrando su exactitud (Accuracy) en función de diferentes tamaños de conjuntos de prueba. Las barras de colores nos permiten observar cómo la proporción de datos utilizada para entrenamiento y evaluación impacta el desempeño predictivo de cada algoritmo.\n",
        "\n",
        "Al analizar el gráfico, se destacan varios puntos clave:\n",
        "\n",
        "*   **Random Forest:** Este modelo exhibió la exactitud más alta, particularmente al ser evaluado con un conjunto de prueba pequeño (correspondiente a la división 90/10, barra naranja). Sin embargo, se observa una disminución notable en su rendimiento cuando el tamaño del conjunto de prueba aumenta (divisiones inicial y 60/40, barras azul y verde respectivamente). Esto podría sugerir que, si bien es capaz de alcanzar picos de alta precisión, su capacidad de generalización podría ser más sensible a la variabilidad introducida por conjuntos de prueba más grandes.\n",
        "\n",
        "*   **Árbol de Decisión (Profundidad 8):** A diferencia del Random Forest, el Árbol de Decisión mostró una exactitud más consistente y estable a través de las diferentes proporciones de datos de prueba. Aunque no alcanzó la exactitud máxima del Random Forest en la división 90/10, su desempeño no decayó drásticamente en los conjuntos de prueba más amplios, lo que podría indicar una mayor robustez en diferentes escenarios de división de datos.\n",
        "\n",
        "*   **Naive Bayes y Redes Neuronales:** Estos modelos presentaron un rendimiento general similar entre sí. Sus niveles de exactitud se ubicaron por debajo de los observados en el Árbol de Decisión y Random Forest en la mayoría de las configuraciones, sugiriendo una capacidad predictiva moderada para este dataset.\n",
        "\n",
        "*   **Support Vector Machine (SVM):** De todos los modelos evaluados, el Support Vector Machine consistentemente mostró la exactitud más baja en todas las proporciones de conjuntos de prueba consideradas. Esto indica que, con la configuración utilizada, este algoritmo no fue el más adecuado para la tarea de predicción de supervivencia en este dataset.\n",
        "\n",
        "En conclusión, el gráfico demuestra las diferencias en la capacidad de generalización de los modelos. Mientras que Random Forest puede ser excelente en escenarios con conjuntos de prueba pequeños, el Árbol de Decisión demostró una mayor estabilidad en su rendimiento. Esta comparación es fundamental para seleccionar el modelo más apropiado, considerando no solo el pico de rendimiento, sino también su consistencia y capacidad para manejar datos no vistos de manera fiable."
      ]
    },
    {
      "cell_type": "markdown",
      "source": [
        "# Conclusión Final"
      ],
      "metadata": {
        "id": "xqxoRyxh1bzK"
      }
    },
    {
      "cell_type": "markdown",
      "source": [
        ">Nota :  En esta sección se menciona todo de forma más directa, los modelos utilizados obtuvieron distintos resultados pero dependiendo el enfoque del estudio cambiará el modelo que se recomiende usar."
      ],
      "metadata": {
        "id": "XZrvt4sC1fbv"
      }
    },
    {
      "cell_type": "markdown",
      "source": [
        "> Nota : Los resultados en el análisis exploratorio de datos y la evaluación de los diferentes modelos de aprendizaje supervisado en distintas proporciones de entrenamiento y prueba, se utiliza para responder a las preguntas clave para comprender el desempeño de los modelos en la predicción de supervivencia en el caso del Titanic."
      ],
      "metadata": {
        "id": "wwfFxhRW3h5h"
      }
    },
    {
      "cell_type": "markdown",
      "source": [
        "## ¿Qué modelo fue mejor?\n",
        "\n",
        "Basándonos en la **exactitud en los conjuntos de prueba** (que indica mejor generalización a datos no vistos):\n",
        "\n",
        "*   El **Random Forest** tuvo la exactitud más alta en la división 90/10.\n",
        "*   El **Árbol de Decisión** mostró una exactitud consistente y competitiva en todas las divisiones de prueba, y una alta precisión para la clase \"Sobrevivió\" en la división 60/40.\n",
        "\n",
        "No hay un único \"mejor\" modelo sin considerar el contexto. Si priorizamos la exactitud general y tenemos un conjunto de prueba relativamente pequeño, Random Forest podría ser una buena opción. Si priorizamos la estabilidad del rendimiento en diferentes tamaños de datos o la interpretabilidad, el Árbol de Decisión es muy competitivo. SVM tuvo el rendimiento más bajo en este caso.\n",
        "\n",
        "## ¿En qué proporción se obtiene mayor exactitud?\n",
        "\n",
        "Observando la tabla de exactitud:\n",
        "\n",
        "*   La **división 90% Entrenamiento / 10% Prueba** (0.1) resultó en la exactitud más alta para varios modelos, notablemente para Random Forest (0.8315).\n",
        "*   La **división 60% Entrenamiento / 40% Prueba** (0.4) generalmente resultó en una exactitud ligeramente menor que la 90/10, pero puede ser un mejor indicador de cómo se comportaría el modelo con un conjunto de prueba más grande y representativo.\n",
        "*   La evaluación en el **100% de los datos** mostró las exactitudes más altas (especialmente para Random Forest), pero esto es engañoso ya que es el rendimiento en los datos de entrenamiento y no indica generalización.\n",
        "\n",
        "La proporción **90/10** pareció dar los picos de exactitud más altos en los conjuntos de prueba, pero la proporción **60/40** proporciona una evaluación con un conjunto de prueba más grande, lo que puede dar una estimación más robusta de la capacidad de generalización real. La elección depende del equilibrio deseado entre tener un conjunto de entrenamiento grande (90/10) y tener una evaluación más fiable (60/40).\n"
      ],
      "metadata": {
        "id": "w7FnvrDz1Fhq"
      }
    },
    {
      "cell_type": "markdown",
      "source": [
        "## ¿Qué trade-offs existen entre modelos?\n",
        "\n",
        "Existen varios trade-offs al elegir un modelo:\n",
        "\n",
        "*   **Complejidad vs. Rendimiento:** Modelos más complejos como Random Forest o Redes Neuronales a menudo pueden capturar patrones más intrincados y lograr mayor exactitud, pero son más propensos al sobreajuste y más difíciles de interpretar. Modelos más simples como Naive Bayes o Árbol de Decisión son más interpretables pero pueden tener un rendimiento limitado.\n",
        "*   **Sesgo vs. Varianza:** Modelos con alto sesgo (simples) pueden subajustar los datos. Modelos con alta varianza (complejos) pueden sobreajustar. Random Forest (un ensemble de árboles de decisión) busca reducir la varianza de árboles individuales.\n",
        "*   **Velocidad de entrenamiento vs. Velocidad de predicción:** Algunos modelos entrenan rápido pero predicen lento, o viceversa.\n",
        "*   **Interpretación:** Modelos como el Árbol de Decisión son relativamente fáciles de visualizar y entender. Modelos de caja negra como Redes Neuronales o SVM son mucho más difíciles de interpretar."
      ],
      "metadata": {
        "id": "hRYEJM7o4RW_"
      }
    },
    {
      "cell_type": "markdown",
      "source": [
        "## ¿Cuándo conviene usar cada modelo en otros casos?\n",
        "\n",
        "*   **Árbol de Decisión:** Útil cuando necesitas un modelo interpretable. Bueno para problemas de clasificación y regresión. Puede ser propenso a sobreajuste si no se controla la profundidad.\n",
        "*   **Random Forest:** Ideal cuando se busca alta precisión y se puede sacrificar interpretabilidad. Robusto contra el sobreajuste (debido al \"ensemble\"). Funciona bien con diferentes tipos de datos.\n",
        "*   **Naive Bayes:** Simple, rápido y efectivo, especialmente para problemas de clasificación de texto o con características independientes. Funciona bien con conjuntos de datos grandes. Asume independencia entre características, lo que rara vez es cierto en la práctica, pero a menudo funciona sorprendentemente bien.\n",
        "*   **Redes Neuronales (MLPClassifier):** Potentes para capturar relaciones complejas en los datos. Requieren más datos y ajuste de hiperparámetros que modelos más simples. Son \"cajas negras\" y difíciles de interpretar. Útiles en una amplia gama de problemas, especialmente donde hay patrones no lineales.\n",
        "*   **Support Vector Machine (SVM):** Efectivo en espacios de alta dimensión. Bueno para problemas de clasificación y regresión. Puede funcionar bien con conjuntos de datos de tamaño moderado. La elección del kernel y la regularización es crucial. Puede ser lento en conjuntos de datos muy grandes.\n",
        "\n",
        "La elección del modelo siempre debe basarse en las características específicas del problema, el tamaño y tipo de datos, los requisitos de interpretabilidad y los recursos computacionales disponibles. Probar varios modelos, como hiciste, es una excelente práctica."
      ],
      "metadata": {
        "id": "iLnaq3e94UNu"
      }
    }
  ]
}